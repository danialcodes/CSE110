{
 "cells": [
  {
   "cell_type": "markdown",
   "metadata": {
    "colab_type": "text",
    "id": "0ZcT5c9CjT8P"
   },
   "source": [
    "# SUMMER 2020\n",
    "\n",
    "# CSE110 MID\n",
    "**<font color='red'>[MUST MAINTAIN VARIABLE NAMING CONVENTIONS FOR ALL THE TASKS]</font>**\n",
    "\n",
    "**<font color='red'>[Writing comments(explanatory sentences) in any of the code is completely optional]</font>**"
   ]
  },
  {
   "cell_type": "markdown",
   "metadata": {
    "colab_type": "text",
    "id": "hQCnOmw6iWER"
   },
   "source": [
    "# Task 01\n",
    "Mrs. Mishti is very fond of sweets. So she regularly orders curd and Rasgulla from an online-based sweet shop. The price of one kg curd is **300** taka and the price of one kg Rasgulla is **250** taka. The store will offer a discount depending on the total bill amount. The table below shows the discount she will get on her total amount.\n",
    "\n",
    "\n",
    "\n",
    "\n",
    "\n",
    "\n",
    "|Total Amount (TK)|Discount (TK)|\n",
    "|------|------|\n",
    "|0 - 450|No Discount|\n",
    "|451 - 699|30|\n",
    "|700 - 849 |40|\n",
    "|850 - 1599|120|\n",
    "|>= 1600|200|\n",
    "\n",
    "Write a python program and take two inputs from the user. The first input will be the amount of curd in kgs and the second input will be the amount of Rasgulla in kgs. Based on the price of each sweet, calculate the total amount that Mrs. Mishti will have to pay.  \n",
    "\n",
    " ================================\n",
    "\n",
    "\n",
    "**Sample input(1):**\\\n",
    "3\\\n",
    "5\n",
    "\n",
    "\n",
    "**Sample Output(1):**\\\n",
    "Previous total: 2150\\\n",
    "New total after discount: 1950\n",
    "\n",
    "\n",
    "*Explanation(1): 3 * 300 + 5 * 250 = 2150 Tk was her bill without discount.  For 2150 Tk, the discount amount is 200Tk. So, with discount, her updated bill is (2150-200)= 1950Tk.*\n",
    "\n",
    "================================\n",
    "\n",
    "**Sample input 2:**\\\n",
    "0\\\n",
    "1\n",
    "\n",
    "\n",
    "**Sample output 2:**\\\n",
    "Previous total: 250\\\n",
    "New total after discount: 250\n",
    "\n",
    "\n",
    "\n",
    "*Explanation(2):  0 * 300 + 1 * 250 = 250 Tk was her bill without discount.  For 250Tk, the discount amount is 0Tk. So, with discount, her updated bill is (220-0)= 220Tk.*\n",
    "\n",
    "\n"
   ]
  },
  {
   "cell_type": "code",
   "execution_count": 5,
   "metadata": {
    "colab": {},
    "colab_type": "code",
    "id": "P0vIwmbeiWEU"
   },
   "outputs": [
    {
     "name": "stdout",
     "output_type": "stream",
     "text": [
      "3\n",
      "5\n",
      "Previous total: 2150.0 Taka\n",
      "New total after discount: 1950.0 Taka\n"
     ]
    }
   ],
   "source": [
    "#task 1\n",
    "#Done\n",
    "ammount_of_curd = float(input()) # I could use int() but i use float because customer can buy fraction ammount like 1.5 kg, 2.5 kg etc.\n",
    "ammount_of_rosgulla = float(input())\n",
    "total_cost = ammount_of_curd * 300 + ammount_of_rosgulla * 250\n",
    "\n",
    "if (total_cost >=0 and total_cost <= 450):\n",
    "    total_cost_after_discount = total_cost\n",
    "elif(total_cost >=451 and total_cost <= 699):\n",
    "    total_cost_after_discount = total_cost - 30\n",
    "elif(total_cost >=700 and total_cost <= 849):\n",
    "    total_cost_after_discount = total_cost - 40\n",
    "elif(total_cost >=850 and total_cost <= 1599):\n",
    "    total_cost_after_discount = total_cost - 120\n",
    "elif(total_cost >=1600):\n",
    "    total_cost_after_discount = total_cost - 200\n",
    "\n",
    "print('Previous total:',total_cost,\"Taka\")\n",
    "print('New total after discount:',total_cost_after_discount,\"Taka\")"
   ]
  },
  {
   "cell_type": "markdown",
   "metadata": {
    "colab_type": "text",
    "id": "zUyYKkWViWEd"
   },
   "source": [
    "# Task 02\n",
    "Write a Python program that takes your student ID as an input from the user and then **sums up all the digits** of your ID.\n",
    "\n",
    "\n",
    " \n",
    "  ================================\n",
    " \n",
    "**Sample input 1:**\\\n",
    "19101211\\\n",
    "**Sample output 1:**\\\n",
    "16\n",
    " \n",
    "  ================================\n",
    "\n",
    "**Sample input 2:**\\\n",
    "14301185 \\\n",
    "**Sample output 2:**\\\n",
    "23"
   ]
  },
  {
   "cell_type": "code",
   "execution_count": 3,
   "metadata": {
    "colab": {},
    "colab_type": "code",
    "id": "_oEJ6XwgiWEh"
   },
   "outputs": [
    {
     "name": "stdout",
     "output_type": "stream",
     "text": [
      "14301185\n",
      "23\n"
     ]
    }
   ],
   "source": [
    "#task 2\n",
    "#Done\n",
    "id_no = input()\n",
    "total = 0\n",
    "for digit in id_no:\n",
    "    total += int(digit) # typecasting string into integer\n",
    "print(total)"
   ]
  },
  {
   "cell_type": "markdown",
   "metadata": {
    "colab_type": "text",
    "id": "CEhXrQIhiWEo"
   },
   "source": [
    "# Task 03\n",
    "Use a loop to input 6 **integers** in a list. Write a program that prints the sum of the first and last numbers if the first number is smaller than the last number. Otherwise, prints the subtraction of the last number from the first number.\n",
    " \n",
    "\n",
    "\n",
    "\n",
    "\n",
    "\n",
    " \n",
    "  ================================\n",
    " \n",
    "**Sample input 1:**\\\n",
    "1, 3, 4, 5, 1, 2\\\n",
    "**Sample output 1:**\\\n",
    "3\\\n",
    "\\\n",
    "*Explanation: first number in list = 1, last number in list = 2, first number smaller than last number, thus we print the sum of the first and last numbers i.e. 1 + 2 = 3*\n",
    " \n",
    "  ================================\n",
    "\n",
    "**Sample input 2:**\\\n",
    "2, 4, 2, 2, 2, 0\\\n",
    "**Sample output 2:**\\\n",
    "2\\\n",
    "\\\n",
    "*Explanation: first number in list = 2, last number in list = 0, first number is NOT smaller than last number, thus we subtract the last number from the first number and print it i.e. 2 - 0 = 2*\n",
    "\n"
   ]
  },
  {
   "cell_type": "code",
   "execution_count": 2,
   "metadata": {
    "colab": {},
    "colab_type": "code",
    "id": "gWQIR06LiWEp"
   },
   "outputs": [
    {
     "name": "stdout",
     "output_type": "stream",
     "text": [
      "2\n",
      "4\n",
      "2\n",
      "2\n",
      "2\n",
      "0\n",
      "2\n"
     ]
    }
   ],
   "source": [
    "#task 3\n",
    "#Done\n",
    "list_of_integers = list()\n",
    "for time in range(6):\n",
    "    list_of_integers.append(int(input())) # taking input, typecasting into integer, adding that into a list.\n",
    "first = list_of_integers[0]\n",
    "last = list_of_integers[-1]\n",
    "if (first < last):\n",
    "    print(first + last)\n",
    "else:\n",
    "    print(first - last)"
   ]
  },
  {
   "cell_type": "code",
   "execution_count": null,
   "metadata": {
    "colab": {},
    "colab_type": "code",
    "id": "dDpwG8ImNrFg"
   },
   "outputs": [],
   "source": []
  }
 ],
 "metadata": {
  "colab": {
   "collapsed_sections": [],
   "name": "set 06.ipynb",
   "provenance": []
  },
  "kernelspec": {
   "display_name": "Python 3",
   "language": "python",
   "name": "python3"
  },
  "language_info": {
   "codemirror_mode": {
    "name": "ipython",
    "version": 3
   },
   "file_extension": ".py",
   "mimetype": "text/x-python",
   "name": "python",
   "nbconvert_exporter": "python",
   "pygments_lexer": "ipython3",
   "version": "3.7.6"
  }
 },
 "nbformat": 4,
 "nbformat_minor": 1
}

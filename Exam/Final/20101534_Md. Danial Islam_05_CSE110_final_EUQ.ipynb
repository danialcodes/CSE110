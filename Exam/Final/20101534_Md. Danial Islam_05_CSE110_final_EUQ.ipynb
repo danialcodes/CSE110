{
 "cells": [
  {
   "cell_type": "markdown",
   "metadata": {
    "colab_type": "text",
    "id": "0ZcT5c9CjT8P"
   },
   "source": [
    "# SUMMER 2020\n",
    "\n",
    "# CSE110 FINAL EXAM\n",
    "**<font color='red'>[MUST MAINTAIN VARIABLE NAMING CONVENTIONS FOR ALL THE TASKS]</font>**\n",
    "\n",
    "**<font color='red'>[Writing comments(explanatory sentences) in any of the code is completely optional]</font>**"
   ]
  },
  {
   "cell_type": "markdown",
   "metadata": {
    "colab_type": "text",
    "id": "hQCnOmw6iWER"
   },
   "source": [
    "# Task 01\n",
    "\n",
    "Write a function called show_triangle that takes a number as an argument and prints a triangle in the function.\n",
    "\n",
    "\n",
    "=============================================================\n",
    "\n",
    "\n",
    "**Sample example 1:**\n",
    "\n",
    "\n",
    "**Sample input 1:** 3\n",
    "\n",
    "**Function Call:** show_triangle(3)\n",
    "\n",
    "**Sample ouput 1:**\\\n",
    "1\\\n",
    "12\\\n",
    "123\n",
    "\n",
    "**Explanation:** \n",
    "Here the argument passed to the function is 3. Here, 3 is the number of lines printed. For each line, we have numbers printed to that line number. For example, line1 has only 1 number, line 2 has only 2 numbers and line3 has only 3 numbers. \n",
    "\n",
    "=============================================================\n",
    "\n",
    "\n",
    "**Sample example 2:**\n",
    "\n",
    "**Sample input 2:** 4\n",
    "\n",
    "**Function Call:** show_triangle(4)\n",
    "\n",
    "**Sample ouput 2:**\\\n",
    "1\\\n",
    "12\\\n",
    "123\\\n",
    "1234\n",
    "\n",
    "**Explanation**: \n",
    "Here the argument passed to the function is 4. Here, 4 is the number of lines printed. For each line, we have numbers printed to that line number. For example, line1 has only 1 number, line 2 has only 2 numbers, line3 has only 3 numbers and lastly, line4 has only 4 numbers. \n"
   ]
  },
  {
   "cell_type": "code",
   "execution_count": 26,
   "metadata": {
    "colab": {},
    "colab_type": "code",
    "id": "P0vIwmbeiWEU"
   },
   "outputs": [
    {
     "name": "stdout",
     "output_type": "stream",
     "text": [
      "Please enter a number: 7\n",
      "1\n",
      "12\n",
      "123\n",
      "1234\n",
      "12345\n",
      "123456\n",
      "1234567\n"
     ]
    }
   ],
   "source": [
    "#task 1\n",
    "#Done\n",
    "def show_triangle(n):\n",
    "    for i in range(1,n+1):\n",
    "        for j in range(1,i+1):\n",
    "            print(j,end='')\n",
    "        print()\n",
    "\n",
    "try:\n",
    "    num=int(input('Please enter a number: '))\n",
    "    show_triangle(num)\n",
    "except Exception:\n",
    "    print('Wrong input. Please enter a number')\n",
    "#this triangle will blow if we input , number that is greater than 9.. i could also write code\n",
    "# that'll print perfect triangle even after 10.\n"
   ]
  },
  {
   "cell_type": "markdown",
   "metadata": {
    "colab_type": "text",
    "id": "zUyYKkWViWEd"
   },
   "source": [
    "# Task 02\n",
    "\n",
    "Take a String as input from the user. Then write a function that takes a String as an argument and returns a dictionary that contains the letters as Key and their corresponding ASCII code(values) as Value of the dictionary. Finally, print the returned dictionary **outside** the function. Consider, cases to be differnt. So, 'S' and 's' are differnt and unique letters.\n",
    "\n",
    "=============================================================\n",
    "\n",
    "**Sample example 1:**\n",
    "\n",
    "**Sample input 1:**\\\n",
    "Exam\n",
    "\n",
    "**Function Call:** function_name(\"Exam\")\n",
    "\n",
    "**Sample output 1:**\\\n",
    "{'E':69, 'x':120, 'a':97, 'm':109}\n",
    "\n",
    "**Explanation:** In sample input 1, there are 4 unique letters and thus the dictionary contains the ascii of  those 4 letters as value. Consider, cases to be differnt. \n",
    "\n",
    "=============================================================\n",
    "\n",
    "**Sample example 2:**\n",
    "\n",
    "**Sample input 2:**\\\n",
    "Semester\n",
    "\n",
    "**Function Call:** function_name(\"Semester\")\n",
    "\n",
    "**Sample output 2:**\\\n",
    "{ 'S':83, 'e':101, 'm':109, 's':115, 't':116, 'r':114 } \n",
    "\n",
    "**Explanation:** In sample input 2, there are 6 unique letters and thus the dictionary contains the ascii of  those 6 letters as value. Consider, cases to be differnt. So, 'S' and 's' are differnt and unique letters.\n",
    "\n",
    "**Hint:** Use the ord() function to find the ascii value of each character ."
   ]
  },
  {
   "cell_type": "code",
   "execution_count": 19,
   "metadata": {
    "colab": {},
    "colab_type": "code",
    "id": "_oEJ6XwgiWEh"
   },
   "outputs": [
    {
     "name": "stdout",
     "output_type": "stream",
     "text": [
      "Semester\n",
      "{'S': 83, 'e': 101, 'm': 109, 's': 115, 't': 116, 'r': 114}\n"
     ]
    }
   ],
   "source": [
    "#task 2\n",
    "#Done\n",
    "def dict_maker(word):\n",
    "    word_dict ={}\n",
    "    for char in word:\n",
    "        if char not in word_dict:\n",
    "            word_dict[char] = ord(char)\n",
    "    return word_dict\n",
    "\n",
    "a_string = input()\n",
    "print(dict_maker(a_string))"
   ]
  },
  {
   "cell_type": "markdown",
   "metadata": {
    "colab_type": "text",
    "id": "CEhXrQIhiWEo"
   },
   "source": [
    "# Task 03\n",
    "\n",
    "Write a function that takes two arguments as an input from the user. First argument is a string and the second argument is an integer. Both the arguments have to be taken as an input from the user. Your task is to create a new string which will only contain the characters from the string(first argument of your function), if their ascii values are divisible by the given integer (second argument of your function). Finally print the new string **inside** the function.\n",
    "\n",
    "\n",
    "=============================================================\n",
    "\n",
    "\n",
    "**Sample example 1:**\\\n",
    "**Sample input 1:**\\\n",
    "ad bc\\\n",
    "2\n",
    "\n",
    "**Function Call:** function_name('ad b', 2)\\\n",
    "**Sample output 1:**\\\n",
    "d b\n",
    "\n",
    "**Explanation**: \n",
    "Here two arguments are passed to the function. If you iterate over the characters of the given string and find their corresponding ascii values, they are 97, 100, 32 and 98 respectively. After doing mod in each ascii value, the values which are divisible by the second argument are concatenated in a new string variable. Finally since the ascii values of 'd', ' ' and 'b' is divisible by 2 we get the final output.\n",
    "\n",
    "=============================================================\n",
    "\n",
    "**Sample example 2:**\\\n",
    "**Sample input 2:**\\\n",
    "I love programming\\\n",
    "5\n",
    "\n",
    "**Function Call:** function_name('I love programming', 5)\\\n",
    "**Sample output 2:**\\\n",
    "in\n",
    "\n",
    "**Explanation:** \n",
    "Here two arguments are passed to the function.  If you iterate over the characters of the given  string and find their corresponding ascii values, you will see 'i' and 'n' is only divisible by 5. Therefore, add these characters to a new string and when the loop ends you will get the final output.\n",
    "\n",
    "**Hint:** Use the ord() function to find the ascii value of each character and mod by the integer to find if the character is divisible or not.\n",
    "\n"
   ]
  },
  {
   "cell_type": "code",
   "execution_count": 28,
   "metadata": {
    "colab": {},
    "colab_type": "code",
    "id": "gWQIR06LiWEp"
   },
   "outputs": [
    {
     "name": "stdout",
     "output_type": "stream",
     "text": [
      "Please enter your string: I love programming\n",
      "Please enter your number: 5\n",
      "in\n"
     ]
    }
   ],
   "source": [
    "#task 3\n",
    "#Done\n",
    "def your_ascii(sentence,number):\n",
    "    new_string = ''\n",
    "    for char in sentence:\n",
    "        if ord(char)%number ==0:\n",
    "            new_string+=char\n",
    "    print(new_string)\n",
    "\n",
    "try:\n",
    "    a_string = input(\"Please enter your string: \")\n",
    "    a_num = int(input(\"Please enter your number: \"))\n",
    "    your_ascii(a_string,a_num)\n",
    "except Exception:\n",
    "    print('Please enter second input currectly')"
   ]
  },
  {
   "cell_type": "code",
   "execution_count": null,
   "metadata": {
    "colab": {},
    "colab_type": "code",
    "id": "o16H8wWW9IBM"
   },
   "outputs": [],
   "source": [
    "Arrigato ❤️❤️ "
   ]
  }
 ],
 "metadata": {
  "colab": {
   "collapsed_sections": [],
   "name": "Set_1.ipynb",
   "provenance": []
  },
  "kernelspec": {
   "display_name": "Python 3",
   "language": "python",
   "name": "python3"
  },
  "language_info": {
   "codemirror_mode": {
    "name": "ipython",
    "version": 3
   },
   "file_extension": ".py",
   "mimetype": "text/x-python",
   "name": "python",
   "nbconvert_exporter": "python",
   "pygments_lexer": "ipython3",
   "version": "3.7.6"
  }
 },
 "nbformat": 4,
 "nbformat_minor": 1
}

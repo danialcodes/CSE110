{
 "cells": [
  {
   "cell_type": "markdown",
   "metadata": {},
   "source": [
    "# CSE110 Assignment 4\n",
    "## Write the Python code of the following problems:\n",
    "\n"
   ]
  },
  {
   "cell_type": "markdown",
   "metadata": {},
   "source": [
    "## Part 1: Tuple"
   ]
  },
  {
   "cell_type": "markdown",
   "metadata": {},
   "source": [
    "### Task 1\n",
    "\n",
    "Assume, you have been given a tuple.\n",
    "\n",
    "a_tuple = (\"The Institute\",\\\n",
    "        (\"Best Mystery & Thriller\", \"The Silent Patient\", 68821),\\\n",
    "        75717,\\\n",
    "        [1, 2, 3, 400, 5, 6, 7],\\\n",
    "        (\"Best Fiction\", \"The Testaments\", 98291)\\\n",
    ")\n",
    "\n",
    "Write one line of Python code to access and print the value 400.\n",
    "\n",
    "Output: 400\n",
    "\n"
   ]
  },
  {
   "cell_type": "code",
   "execution_count": 1,
   "metadata": {},
   "outputs": [
    {
     "name": "stdout",
     "output_type": "stream",
     "text": [
      "400\n"
     ]
    }
   ],
   "source": [
    "#Done\n",
    "a_tuple = (\"The Institute\",\n",
    "(\"Best Mystery & Thriller\", \"The Silent Patient\", 68821),\n",
    "75717,\n",
    "[1, 2, 3, 400, 5, 6, 7],\n",
    "(\"Best Fiction\", \"The Testaments\", 98291)\n",
    ")\n",
    "print(a_tuple[3][3])"
   ]
  },
  {
   "cell_type": "markdown",
   "metadata": {},
   "source": [
    "### Task 2\n",
    "\n",
    "Assume, you have been given a tuple.\n",
    "\n",
    "a_tuple =  (10, 20, 24, 25, 26, 35, 70)\n",
    "\n",
    "Write a Python program that creates a new tuple excluding the first and last two elements of the given tuple and prints the new tuple. \n",
    "\n",
    "Output: (24, 25, 26)\n",
    "\n",
    "*Hint: You need to use tuple slicing.*\n"
   ]
  },
  {
   "cell_type": "code",
   "execution_count": 5,
   "metadata": {},
   "outputs": [
    {
     "name": "stdout",
     "output_type": "stream",
     "text": [
      "(24, 25, 26)\n"
     ]
    }
   ],
   "source": [
    "#Done\n",
    "a_tuple = (10, 20, 24, 25, 26, 35, 70)\n",
    "new_tuple = a_tuple[2:-2]\n",
    "print(new_tuple)"
   ]
  },
  {
   "cell_type": "markdown",
   "metadata": {},
   "source": [
    "### Task 3\n",
    "\n",
    "Assume, you have been given a tuple. \n",
    "\n",
    "\n",
    "book_info = (\\\n",
    "    (\"Best Mystery & Thriller\",\"The Silent Patient\",68,821),\\\n",
    "    (\"Best Horror\",\"The Institute\",75,717),\\\n",
    "    (\"Best History & Biography\",\"The five\",31,783 ),\\\n",
    "    (\"Best Fiction\",\"The Testaments\",98,291)\\\n",
    ")\n",
    "\n",
    "Write a Python program that prints its size and all its elements.\n",
    "\n",
    "Output:\\\n",
    "Size of the tuple is: 4\\\n",
    "('Best Mystery & Thriller', 'The Silent Patient', 68, 821)\\\n",
    "('Best Horror', 'The Institute', 75, 717)\\\n",
    "('Best History & Biography', 'The five', 31, 783)\\\n",
    "('Best Fiction', 'The Testaments', 98, 291)\n"
   ]
  },
  {
   "cell_type": "code",
   "execution_count": 9,
   "metadata": {},
   "outputs": [
    {
     "name": "stdout",
     "output_type": "stream",
     "text": [
      "Size of the tuple is: 4\n",
      "('Best Mystery & Thriller', 'The Silent Patient', 68, 821)\n",
      "('Best Horror', 'The Institute', 75, 717)\n",
      "('Best History & Biography', 'The five', 31, 783)\n",
      "('Best Fiction', 'The Testaments', 98, 291)\n"
     ]
    }
   ],
   "source": [
    "#Done\n",
    "book_info = (\n",
    "(\"Best Mystery & Thriller\",\"The Silent Patient\",68,821),\n",
    "(\"Best Horror\",\"The Institute\",75,717),\n",
    "(\"Best History & Biography\",\"The five\",31,783 ),\n",
    "(\"Best Fiction\",\"The Testaments\",98,291)\n",
    ")\n",
    "print(\"Size of the tuple is:\",len(book_info))\n",
    "for item in book_info:\n",
    "    print(item)"
   ]
  },
  {
   "cell_type": "markdown",
   "metadata": {},
   "source": [
    "### Task 4\n",
    "\n",
    "Assume, you have been given a tuple. \n",
    "book_info = (\\\n",
    "    (\"Best Mystery & Thriller\",\"The Silent Patient\",68,821),\\\n",
    "    (\"Best Horror\",\"The Institute\",75,717),\\\n",
    "    (\"Best History & Biography\",\"The five\",31,783 ),\\\n",
    "    (\"Best Fiction\",\"The Testaments\",98,291)\\\n",
    ")\n",
    "\n",
    "Write a Python program that prints the information about the Good Reads Choice Awards from a tuple. Your program should print the award category, the book name, and its total votes needed for the win.\n",
    "\n",
    "**Output:**\\\n",
    "The Silent Patient won the 'Best Mystery & Thriller' category with 68821 votes\\\n",
    "The Institute won the 'Best Horror' category with 75717 votes\\\n",
    "The five won the 'Best History & Biography' category with 31783 votes\\\n",
    "The Testaments won the 'Best Fiction' category with 98291 votes\n",
    "\n",
    "*Hint: You need to handle the quotation marks as a part of the output. Need to use Tuple unpacking for printing.*\n",
    "\n"
   ]
  },
  {
   "cell_type": "code",
   "execution_count": 14,
   "metadata": {},
   "outputs": [
    {
     "name": "stdout",
     "output_type": "stream",
     "text": [
      "The Silent Patient won the 'Best Mystery & Thriller' catagory with 68821 votes\n",
      "The Institute won the 'Best Horror' catagory with 75717 votes\n",
      "The five won the 'Best History & Biography' catagory with 31783 votes\n",
      "The Testaments won the 'Best Fiction' catagory with 98291 votes\n"
     ]
    }
   ],
   "source": [
    "#Done\n",
    "book_info = (\n",
    "(\"Best Mystery & Thriller\",\"The Silent Patient\",68821),\n",
    "(\"Best Horror\",\"The Institute\",75717),\n",
    "(\"Best History & Biography\",\"The five\",31783 ),\n",
    "(\"Best Fiction\",\"The Testaments\",98291)\n",
    ")\n",
    "for item in book_info:\n",
    "    print(item[1]+\" won the '\"+item[0]+\"' catagory with \"+str(item[2])+\" votes\")"
   ]
  },
  {
   "cell_type": "markdown",
   "metadata": {},
   "source": [
    "### Task 5\n",
    "\n",
    "Assume, you have been given a tuple.\n",
    "\n",
    "a_tuple = ( [1, 2, 3], [4, 5, 6], [7, 8, 9], [10, 11, 12])\n",
    "\n",
    "Write a Python program that asks the user for input (can be any data type) and replaces the last element of each of the inner lists with the user given value.\n",
    "\n",
    "**Example 1:**\\\n",
    "Input: “abc”\\\n",
    "Output: ([1, 2, 'abc'], [4, 5, 'abc'], [7, 8, 'abc'], [10, 11, 'abc'])\n",
    "\n",
    "**Example 2:**\\\n",
    "Input: 1000\\\n",
    "Output: ([1, 2, 1000], [4, 5, 1000], [7, 8, 1000], [10, 11, 1000])\n",
    "\n"
   ]
  },
  {
   "cell_type": "code",
   "execution_count": 20,
   "metadata": {},
   "outputs": [
    {
     "name": "stdout",
     "output_type": "stream",
     "text": [
      "1000\n",
      "([1, 2, 3, 1000], [4, 5, 6, 1000], [7, 8, 9, 1000], [10, 11, 12, 1000])\n"
     ]
    }
   ],
   "source": [
    "#Done\n",
    "a_tuple = ( [1, 2, 3], [4, 5, 6], [7, 8, 9], [10, 11, 12])\n",
    "addable = input()\n",
    "if addable[0] >=\"0\" and addable[0] <= \"9\": #i'm just assuming that there is no mixed type input like '1piece' but has 'piece1'\n",
    "    addable = int(addable)\n",
    "for item in a_tuple:\n",
    "    item.append(addable)\n",
    "print(a_tuple)"
   ]
  },
  {
   "cell_type": "markdown",
   "metadata": {},
   "source": [
    "## Part 2: Dictionary"
   ]
  },
  {
   "cell_type": "markdown",
   "metadata": {},
   "source": [
    "### Task 6\n",
    "\n",
    "Suppose there is a dictionary of your shopping list.\n",
    "\n",
    "shopping_list = {'Chocolate': 'Hersheys', 'Cocoa  powder': 'Cadbury', 'Spread': 'Nutella'} \n",
    "\n",
    "Now write a python program to add a new key called 'Baking powder' and assign 'Foster clarks' as its value.\n",
    "\n",
    "**Output:**\\\n",
    "{'Chocolate': 'Hersheys', 'Cocoa  powder': 'Cadbury', 'Spread': 'Nutella', 'Baking powder': 'Foster clarks'}\n"
   ]
  },
  {
   "cell_type": "code",
   "execution_count": 2,
   "metadata": {},
   "outputs": [
    {
     "name": "stdout",
     "output_type": "stream",
     "text": [
      "{'Chocolate': 'Hersheys', 'Cocoa powder': 'Cadbury', 'Spread': 'Nutella', 'Baking powder': 'Foster clarks'}\n"
     ]
    }
   ],
   "source": [
    "#Done\n",
    "shopping_list = {'Chocolate': 'Hersheys', 'Cocoa powder': 'Cadbury', 'Spread': 'Nutella'}\n",
    "shopping_list.update({'Baking powder': 'Foster clarks'})\n",
    "print(shopping_list)"
   ]
  },
  {
   "cell_type": "markdown",
   "metadata": {},
   "source": [
    "### Task 7\n",
    "Suppose you are given the following two dictionaries.\\\n",
    "marks_boys = {'Harry':15, 'Draco':8, 'Nevil':19}\\\n",
    "marks_girls = {'Ginie':18, 'Luna': 14}\n",
    "\n",
    "Now create a new dictionary marks merging the two of the above dictionaries, so that the original two dictionaries remain unchanged.\n",
    "\n",
    "**Output:**\\\n",
    "{'Harry': 15, 'Draco': 8, 'Nevil': 19, 'Ginie': 18, 'Luna': 14}\n",
    "\n",
    "*Hint: You can use dictionary functions.*\n"
   ]
  },
  {
   "cell_type": "code",
   "execution_count": 6,
   "metadata": {},
   "outputs": [
    {
     "name": "stdout",
     "output_type": "stream",
     "text": [
      "{'Harry': 15, 'Draco': 8, 'Nevil': 19, 'Ginie': 18, 'Luna': 14}\n"
     ]
    }
   ],
   "source": [
    "#Done\n",
    "marks_boys = {'Harry':15, 'Draco':8, 'Nevil':19}\n",
    "marks_girls = {'Ginie':18, 'Luna': 14}\n",
    "marks = {}\n",
    "for keys in marks_boys:\n",
    "    marks.update({keys : marks_boys[keys]})\n",
    "for keys in marks_girls:\n",
    "    marks.update({keys : marks_girls[keys]})\n",
    "print(marks)"
   ]
  },
  {
   "cell_type": "markdown",
   "metadata": {},
   "source": [
    "### Task 8\n",
    "Write a Python program to find the average of all the values in a dictionary. <font color='red'>[ You are not allowed to use len() and sum()]</font>\n",
    "\n",
    "**Input:**\\\n",
    "salary = {'Jon': 100, 'Dan':200, 'Rob':300}\n",
    "\n",
    "**Output:**\\\n",
    "Average is 200\n",
    "\n",
    "*Hint: You can use dictionary functions to get all the values of the dictionary, then run loop to calculate the sum and the total number of values in the dictionary.*\n"
   ]
  },
  {
   "cell_type": "code",
   "execution_count": 17,
   "metadata": {},
   "outputs": [
    {
     "name": "stdout",
     "output_type": "stream",
     "text": [
      "Average is 200.0\n"
     ]
    }
   ],
   "source": [
    "#Done\n",
    "salary = {'Jon': 100, 'Dan':200, 'Rob':300}\n",
    "count = 0\n",
    "total = 0\n",
    "for val in salary.values():\n",
    "    count +=1\n",
    "    total += val\n",
    "print(\"Average is\",total/count) # i could convert it into integer. but if I did it then we will not get currect ans for all the values"
   ]
  },
  {
   "cell_type": "markdown",
   "metadata": {},
   "source": [
    "### Task 9\n",
    "Write a Python program that discards duplicate elements from the following dictionary.\n",
    "\n",
    "bank = {'customer1':101, 'customer2':102, 'customer3':101, 'customer4':103, 'customer5':102}\n",
    "\n",
    "**Output:**\\\n",
    "{'customer1': 101, 'customer2': 102, 'customer4': 103}\n",
    "\n",
    "*Hint: Think of membership operators (in and not in). You can use dictionary functions to get the values.*\n"
   ]
  },
  {
   "cell_type": "code",
   "execution_count": 25,
   "metadata": {},
   "outputs": [
    {
     "name": "stdout",
     "output_type": "stream",
     "text": [
      "{'customer1': 101, 'customer2': 102, 'customer4': 103}\n"
     ]
    }
   ],
   "source": [
    "#Done\n",
    "bank = {'customer1':101, 'customer2':102, 'customer3':101, 'customer4':103, 'customer5':102}\n",
    "new_bank = {}\n",
    "for key,val in bank.items():\n",
    "    if val not in new_bank.values():\n",
    "        new_bank.update({key:val})\n",
    "bank = new_bank\n",
    "print(bank)"
   ]
  },
  {
   "cell_type": "markdown",
   "metadata": {},
   "source": [
    "### Task 10\n",
    "Write a Python program that finds the largest value with its key from the following dictionary. <font color='red'>[without using max() function]</font> \n",
    "\n",
    "bookshop= {'sci fi': 12, 'mystery': 15, 'horror': 8, 'mythology': 10}\n",
    "\n",
    "**Output:**\\\n",
    "The highest selling book genre is mystery and the number of books sold are 15\n",
    "\n",
    "*Hint: Think of membership operators (in and not in). You can use dictionary functions to get the values.*\n"
   ]
  },
  {
   "cell_type": "code",
   "execution_count": 40,
   "metadata": {},
   "outputs": [
    {
     "name": "stdout",
     "output_type": "stream",
     "text": [
      "The highest selling book genre is mystery and the number of books sold are 15\n"
     ]
    }
   ],
   "source": [
    "#Done\n",
    "bookshop= {'sci fi': 12, 'mystery': 15, 'horror': 8, 'mythology': 10}\n",
    "for key,val in bookshop.items():\n",
    "    largest_val = val\n",
    "    largest_key = key\n",
    "    break\n",
    "for key,val in bookshop.items():\n",
    "    if val >  largest_val:\n",
    "        largest_key = key\n",
    "        largest_val = val\n",
    "print('The highest selling book genre is',largest_key,'and the number of books sold are',largest_val)"
   ]
  },
  {
   "cell_type": "markdown",
   "metadata": {},
   "source": [
    "### Task 11\n",
    "Write a Python program that combines two dictionary adding values for common keys.\n",
    "\n",
    "**Input:**\\\n",
    "dict1 = {'a': 10, 'b':20, 'c':30}\\\n",
    "dict2 = {'a': 10, 'c':20, 'd':30, 'e':40}\n",
    "\n",
    "**Output:**\\\n",
    "{'a': 20, 'b': 20, 'c': 50, 'd': 30, 'e': 40}\n",
    "\n",
    "\n",
    "*Hint: Think of membership operators (in and not in). You can use dictionary functions to get the values. Need to create a new dictionary to store the combined items.*\n"
   ]
  },
  {
   "cell_type": "code",
   "execution_count": 52,
   "metadata": {},
   "outputs": [
    {
     "name": "stdout",
     "output_type": "stream",
     "text": [
      "{'a': 20, 'b': 20, 'c': 50, 'd': 30, 'e': 40}\n"
     ]
    }
   ],
   "source": [
    "#Done\n",
    "dict1 = {'a': 10, 'b':20, 'c':30}\n",
    "dict2 = {'a': 10, 'c':20, 'd':30, 'e':40}\n",
    "new_dict = dict1.copy()\n",
    "\n",
    "for key in dict2:\n",
    "    if key not in new_dict.keys():\n",
    "        new_dict.update({key:dict2[key]})\n",
    "    else:\n",
    "        new_dict.update({key: dict2[key]+new_dict[key] })\n",
    "print(new_dict)"
   ]
  },
  {
   "cell_type": "markdown",
   "metadata": {},
   "source": [
    "### Task 12\n",
    "Write a Python program that takes a string as an input from the user and counts the frequency of each character using the dictionary. For solving this problem, you need to use each character as a key and its frequency as values.\n",
    "\n",
    "**Input:**\\\n",
    "\"Python programming is fun\"\n",
    "\n",
    "**Output:**\\\n",
    "{'p': 2, 'y': 1, 't': 1, 'h': 1, 'o': 2, 'n': 3, 'r': 2, 'g': 2, 'a': 1, 'm': 2, 'i': 2, 's': 1, 'f': 1, 'u': 1}\n",
    "\n",
    "*Hint: Need to create a new dictionary to store the frequency. Case is ignored (P and p are considered same).*\n",
    "\n"
   ]
  },
  {
   "cell_type": "code",
   "execution_count": 57,
   "metadata": {},
   "outputs": [
    {
     "name": "stdout",
     "output_type": "stream",
     "text": [
      "Python programming is fun\n",
      "{'p': 2, 'y': 1, 't': 1, 'h': 1, 'o': 2, 'n': 3, 'r': 2, 'g': 2, 'a': 1, 'm': 2, 'i': 2, 's': 1, 'f': 1, 'u': 1}\n"
     ]
    }
   ],
   "source": [
    "#Done\n",
    "line = input().lower()\n",
    "dict_of_frequency = {}\n",
    "for word in line:\n",
    "    if word == \" \":\n",
    "        continue\n",
    "    elif word not in  dict_of_frequency.keys():\n",
    "        dict_of_frequency.update({word:1})\n",
    "    elif word in dict_of_frequency.keys():\n",
    "        dict_of_frequency.update({word : dict_of_frequency[word]+1})\n",
    "print(dict_of_frequency)"
   ]
  },
  {
   "cell_type": "markdown",
   "metadata": {},
   "source": [
    "### Task 13\n",
    "Suppose you are given the following dictionary where its values are lists.\n",
    "\n",
    "dict = {'A': [1,2,3], 'b': ['1', '2'], \"c\": [4, 5, 6, 7]}\n",
    "\n",
    "Write a Python program that counts the total number of items in the dictionary’s values and prints it.\n",
    "\n",
    "**Output:**\\\n",
    "9\n",
    "\n"
   ]
  },
  {
   "cell_type": "code",
   "execution_count": 59,
   "metadata": {},
   "outputs": [
    {
     "name": "stdout",
     "output_type": "stream",
     "text": [
      "9\n"
     ]
    }
   ],
   "source": [
    "#Done\n",
    "dictionary = {'A': [1,2,3], 'b': ['1', '2'], \"c\": [4, 5, 6, 7]}\n",
    "count = 0\n",
    "for val in dictionary.values():\n",
    "    count += len(val)\n",
    "print(count)"
   ]
  },
  {
   "cell_type": "markdown",
   "metadata": {},
   "source": [
    "### Task 14\n",
    "\n",
    "Write a Python program that takes a number (N) from the user and creates a dictionary with all the numbers starting from 1 to N (including) as keys and its cubes as values. Lastly, prints the dictionary.\n",
    "\n",
    "**Example1:** \n",
    "\n",
    "Input: 5\\\n",
    "Output: {1: 1, 2: 4, 3: 9, 4: 16, 5: 25}\n",
    "\n",
    "**Example2:** \n",
    "\n",
    "Input: 3\\\n",
    "Output: {1: 1, 2: 4, 3: 9}\n"
   ]
  },
  {
   "cell_type": "code",
   "execution_count": 64,
   "metadata": {},
   "outputs": [
    {
     "name": "stdout",
     "output_type": "stream",
     "text": [
      "3\n",
      "{1: 1, 2: 4, 3: 9}\n"
     ]
    }
   ],
   "source": [
    "#Done\n",
    "N = int(input())\n",
    "dictionary = {}\n",
    "for num in range(1,N+1):\n",
    "    dictionary.update({num : num*num})\n",
    "print(dictionary)"
   ]
  },
  {
   "cell_type": "markdown",
   "metadata": {},
   "source": [
    "### Task 15\n",
    "\n",
    "Suppose you have been given the following list of tuples. \n",
    "\n",
    "list = [(\"a\", 1), (\"b\", 2), (\"a\", 3), (\"b\", 1), (\"a\", 2), (\"c\", 1)]\n",
    "\n",
    "Write a Python program that converts this list of tuples into a dictionary and prints the dictionary. <font color='red'>[You are not allowed to use set]</font> \n",
    "\n",
    "**Output:**\n",
    "\n",
    "{'a': [1, 3, 2], 'b': [2, 1], 'c': [1]}\n",
    "\n",
    "*Hint: Think of membership operators (in and not in).*  \n"
   ]
  },
  {
   "cell_type": "code",
   "execution_count": 12,
   "metadata": {},
   "outputs": [
    {
     "name": "stdout",
     "output_type": "stream",
     "text": [
      "{'a': [1, 3, 2], 'b': [2, 1], 'c': [1]}\n"
     ]
    }
   ],
   "source": [
    "#Done\n",
    "list_ = [(\"a\", 1), (\"b\", 2), (\"a\", 3), (\"b\", 1), (\"a\", 2), (\"c\", 1)]\n",
    "dictionary ={}\n",
    "\n",
    "for item in list_:\n",
    "    key,val = item\n",
    "    if key not in dictionary.keys():\n",
    "        l1 = []\n",
    "        l1.append(val)\n",
    "        dictionary.update({key : l1 })\n",
    "    elif key in dictionary.keys():\n",
    "        dictionary[key].append(val)\n",
    "print(dictionary)"
   ]
  },
  {
   "cell_type": "code",
   "execution_count": null,
   "metadata": {},
   "outputs": [],
   "source": []
  },
  {
   "cell_type": "code",
   "execution_count": null,
   "metadata": {},
   "outputs": [],
   "source": []
  }
 ],
 "metadata": {
  "kernelspec": {
   "display_name": "Python 3",
   "language": "python",
   "name": "python3"
  },
  "language_info": {
   "codemirror_mode": {
    "name": "ipython",
    "version": 3
   },
   "file_extension": ".py",
   "mimetype": "text/x-python",
   "name": "python",
   "nbconvert_exporter": "python",
   "pygments_lexer": "ipython3",
   "version": "3.7.6"
  }
 },
 "nbformat": 4,
 "nbformat_minor": 4
}

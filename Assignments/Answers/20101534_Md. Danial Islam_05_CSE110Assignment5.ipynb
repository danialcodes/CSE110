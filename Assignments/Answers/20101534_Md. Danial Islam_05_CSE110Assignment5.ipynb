{
 "cells": [
  {
   "cell_type": "markdown",
   "metadata": {
    "colab_type": "text",
    "id": "mRHB9cBf5D7V"
   },
   "source": [
    "# CSE110 Assignment 5\n",
    "This assignment is to guide you to solve everything you have learned so far by implementing functions in Python. \n",
    "\n",
    "**<font color='red'>[MUST MAINTAIN VARIABLE NAMING CONVENTIONS FOR ALL THE TASKS]</font>**\n",
    "\n",
    "## Write the Python code of the following problems:\n"
   ]
  },
  {
   "cell_type": "markdown",
   "metadata": {
    "colab_type": "text",
    "id": "_uzpm0b85D7Z"
   },
   "source": [
    "### Task 1\n",
    "Write a function called **even_checker** that takes a number as an argument and prints whether the number is even or odd *inside the function*.\n",
    "\n",
    "**Example1:** \\\n",
    "**Function Call:**\\\n",
    "even_checker(5)\\\n",
    "**Output:**\\\n",
    "Odd!!\n",
    "\n",
    "=============================\n",
    "\n",
    "**Example2:** \\\n",
    "**Function Call:**\\\n",
    "even_checker(2)\\\n",
    "**Output:**\\\n",
    "Even!!\n",
    "\n"
   ]
  },
  {
   "cell_type": "code",
   "execution_count": 2,
   "metadata": {
    "colab": {},
    "colab_type": "code",
    "id": "tMMBecSe5D7a"
   },
   "outputs": [
    {
     "name": "stdout",
     "output_type": "stream",
     "text": [
      "Odd!!\n"
     ]
    }
   ],
   "source": [
    "#Done\n",
    "def evenChecker(x):\n",
    "  if x%2 == 0:\n",
    "    print(\"Even!!\")\n",
    "  else:\n",
    "    print(\"Odd!!\")\n",
    "\n",
    "evenChecker(5)"
   ]
  },
  {
   "cell_type": "markdown",
   "metadata": {
    "colab_type": "text",
    "id": "YFKgn6Yw5D7f"
   },
   "source": [
    "### Task 2\n",
    "Write a python function that takes the limit as an argument of the Fibonacci series and prints till that limit. \n",
    "\n",
    "**Function Call:**\\\n",
    "fibonacci(10)\\\n",
    "**Output:**\\\n",
    "0 1 1 2 3 5 8\\\n",
    "======================\\\n",
    "**Function Call:**\\\n",
    "fibonacci(5)\\\n",
    "**Output:**\\\n",
    "0 1 1 2 3 5 "
   ]
  },
  {
   "cell_type": "code",
   "execution_count": 4,
   "metadata": {
    "colab": {},
    "colab_type": "code",
    "id": "J4ab_IeA5D7g"
   },
   "outputs": [
    {
     "name": "stdout",
     "output_type": "stream",
     "text": [
      "0 1 1 2 3 5 "
     ]
    }
   ],
   "source": [
    "#Done\n",
    "def fibonacci(x):\n",
    "  a = 0\n",
    "  b = 1\n",
    "  if x >= 1:\n",
    "      print(a,end=\" \")\n",
    "      print(b,end=\" \")\n",
    "      for num in range(x):\n",
    "        c = a+b\n",
    "        if c > x:\n",
    "          break\n",
    "        else:\n",
    "          print(c,end=\" \")\n",
    "          a = b\n",
    "          b = c\n",
    "  elif x == 0:\n",
    "    print(a)\n",
    "  else:\n",
    "    print(\"Lowest fibonacci number is 0\") #if user give negetive number as arguments,i just did it to make program more efficient\n",
    "\n",
    "fibonacci(5)"
   ]
  },
  {
   "cell_type": "markdown",
   "metadata": {
    "colab_type": "text",
    "id": "rDY_xNcO5D7k"
   },
   "source": [
    "### Task 3\n",
    "Write a function called **foo_moo** that takes a number as an argument and **returns** the following statements according the below mention conditions. Then, finally prints the statement in the function call. \n",
    "\n",
    "* \tIf the number is divisible by 2, it should return \"Foo\".\n",
    "*   If the number is divisible by 3, it should return \"Moo\". \n",
    "*   If the number is divisible by both 2 and 3, it should return \"FooMoo\".\n",
    "*   Otherwise, it returns \"Boo\".\n",
    "\n",
    "**Example1:** \\\n",
    "**Function Call:**\\\n",
    "foo_moo(5)\\\n",
    "**Output:**\\\n",
    "Boo\n",
    "\n",
    "=================\n",
    "\n",
    "\n",
    "**Example2:** \\\n",
    "**Function Call:**\\\n",
    "foo_moo(4)\\\n",
    "**Output:**\\\n",
    "Foo\n",
    "\n",
    "=================\n",
    "\n",
    "\n",
    "**Example3:** \\\n",
    "**Function Call:**\\\n",
    "foo_moo(6)\\\n",
    "**Output:**\\\n",
    "FooMoo\n",
    "\n"
   ]
  },
  {
   "cell_type": "code",
   "execution_count": 8,
   "metadata": {
    "colab": {},
    "colab_type": "code",
    "id": "2roUcNrC5D7l"
   },
   "outputs": [
    {
     "name": "stdout",
     "output_type": "stream",
     "text": [
      "FooMoo\n"
     ]
    }
   ],
   "source": [
    "#Done\n",
    "def foo_moo(x):\n",
    "  if (x%2 == 0) and (x%3 == 0):\n",
    "    return \"FooMoo\"\n",
    "  elif x % 2 == 0:\n",
    "    return \"Foo\"\n",
    "  elif x % 3 == 0:\n",
    "    return \"Moo\"\n",
    "  else:\n",
    "    return \"Boo\"\n",
    "p = foo_moo(6)\n",
    "print(p)"
   ]
  },
  {
   "cell_type": "markdown",
   "metadata": {
    "colab_type": "text",
    "id": "nemw1U-i5D7s"
   },
   "source": [
    "### Task 4\n",
    "Write a python function that takes a string as an argument. Your task is to calculate the number of uppercase letters and lowercase letters and print them in the function. \n",
    "\n",
    "**Function Call:**\\\n",
    "function_name('The quick Sand Man')\\\n",
    "**Output:**\\\n",
    "No. of Uppercase characters : 3\\\n",
    "No. of Lowercase Characters: 12\\\n",
    "============================\\\n",
    "**Function Call:**\\\n",
    "function_name('HaRRy PotteR')\\\n",
    "**Output:**\\\n",
    "No. of Uppercase characters : 5\\\n",
    "No. of Lowercase Characters: 6\n"
   ]
  },
  {
   "cell_type": "code",
   "execution_count": 9,
   "metadata": {
    "colab": {},
    "colab_type": "code",
    "id": "4ZBb4Mcr5D7t"
   },
   "outputs": [
    {
     "name": "stdout",
     "output_type": "stream",
     "text": [
      "No. of Uppercase characters : 5\n",
      "No. of Lowercase characters : 6\n"
     ]
    }
   ],
   "source": [
    "#Done\n",
    "\n",
    "def counter(sentance):\n",
    "    uc = 0\n",
    "    lc = 0\n",
    "    for char in sentance:\n",
    "        if char != \" \":\n",
    "            if char >='a' and char <='z':\n",
    "                lc +=1\n",
    "            elif char>='A' and char <='Z':\n",
    "                uc +=1\n",
    "    print(\"No. of Uppercase characters :\",uc)\n",
    "    print(\"No. of Lowercase characters :\",lc)\n",
    "\n",
    "counter('HaRRy PotteR')"
   ]
  },
  {
   "cell_type": "markdown",
   "metadata": {
    "colab_type": "text",
    "id": "e9bojIHe5D7w"
   },
   "source": [
    "### Task 5\n",
    "Write a function called **calculate_tax** that takes 3 arguments: your age, salary, and current job designation.\n",
    "\n",
    "\n",
    "Your first task is to take these arguments as user input and pass these values to the function.\n",
    "\n",
    "Your second task is to implement the function and calculate the tax as the following conditions:\n",
    "*  **NO TAX IF YOU ARE LESS THAN 18 YEARS OLD.**\n",
    "*  **NO TAX IF YOU ARE THE PRESIDENT OF THE COMPANY** \n",
    "*  No tax if you get paid less than 10,000\n",
    "*  5% tax if you get paid between 10K and 20K\n",
    "*  10% tax if you get paid more than 20K\n",
    "\n",
    "\n",
    "Finally return this tax value. Then print the returned value in the function call.\n",
    "\n",
    "**Example1:** \\\n",
    "**Input:**\\\n",
    "16\\\n",
    "20000\\\n",
    "Student\\\n",
    "**Function Call:**\\\n",
    "calculate_tax(16, 20000, 'Student')\\\n",
    "**Output:**\\\n",
    "0\n",
    "\n",
    "===================================\n",
    "\n",
    "**Example2:** \\\n",
    "**Input:**\\\n",
    "20\\\n",
    "18000\\\n",
    "assistant manager\\\n",
    "**Function Call:**\\\n",
    "calculate_tax(20, 18000, 'assistant manager')\\\n",
    "**Output:**\\\n",
    "900.0\n",
    "\n",
    "\n",
    "===================================\n",
    "\n",
    "**Example3:** \\\n",
    "**Input:**\\\n",
    "20\\\n",
    "22000\\\n",
    "assistant manager\\\n",
    "**Function Call:**\\\n",
    "calculate_tax(20, 22000, 'Assistant manager')\\\n",
    "**Output:**\\\n",
    "2200.0\n",
    "\n",
    "===================================\n",
    "\n",
    "\n",
    "**Example4:** \\\n",
    "**Input:**\\\n",
    "20\\\n",
    "122000\\\n",
    "president\\\n",
    "**Function Call:**\\\n",
    "calculate_tax(20, 122000, 'president')\\\n",
    "**Output:**\\\n",
    "0\n",
    " \n",
    "\n",
    "**Hints:**\\\n",
    "Here the job designation is a string, so it can be written in both uppercase and lower cases. So, you need to check the value ignoring the case.\n"
   ]
  },
  {
   "cell_type": "code",
   "execution_count": 9,
   "metadata": {
    "colab": {},
    "colab_type": "code",
    "id": "M4oo-FKQ5D7x"
   },
   "outputs": [
    {
     "name": "stdout",
     "output_type": "stream",
     "text": [
      "20\n",
      "18000\n",
      "assistant manager\n",
      "900.0\n"
     ]
    }
   ],
   "source": [
    "#Done\n",
    "def calculate_tax(age,salary,designation):\n",
    "    if (age < 18) or (designation.lower() == 'president') or (salary < 10000):\n",
    "        tax = 0\n",
    "    elif(salary >= 10000 and salary <=20000):\n",
    "        tax = salary * .05\n",
    "    elif(salary > 20000):\n",
    "        tax = salary * .1\n",
    "    return tax\n",
    "\n",
    "yourAge = int(input())\n",
    "yourSalary = int(input())\n",
    "yourDesignation = input()\n",
    "print(calculate_tax(yourAge,yourSalary,yourDesignation))"
   ]
  },
  {
   "cell_type": "markdown",
   "metadata": {
    "colab_type": "text",
    "id": "VXLQHyLp5D71"
   },
   "source": [
    "### Task 6\n",
    "Write a function which will take 1 argument, number of days.\n",
    "\n",
    "Your first task is to take the number of days as user input and pass the value to the function.\n",
    " \n",
    "Your second task is to implement the function and calculate the total number of years, number of months, and the remaining number of days as output. No need to return any value, print inside the function. \n",
    "\n",
    "**Note:** Assume, each year to be 365 days and month to be 30 days.\n",
    "\n",
    "**Hint:** Divide and mod the main input to get the desired output.\n",
    "\n",
    "**Input:**\\\n",
    "4330\\\n",
    "**Function Call:**\\\n",
    "function_name(4330)\\\n",
    "**Output:**\\\n",
    "11 years, 10 months and 15 days\n",
    "\n",
    "================================\n",
    "\n",
    "**Input:**\\\n",
    "2250\\\n",
    "**Function Call:**\\\n",
    "function_name(2250)\\\n",
    "**Output:**\\\n",
    "6 years, 2 months and 0 days\n",
    "\n",
    "\n",
    "**Hints:** \\\n",
    "This task’s calculation is similar to Assignment-1’s seconds to hours, minutes conversion."
   ]
  },
  {
   "cell_type": "code",
   "execution_count": 10,
   "metadata": {
    "colab": {},
    "colab_type": "code",
    "id": "gkE9d9gs5D72"
   },
   "outputs": [
    {
     "name": "stdout",
     "output_type": "stream",
     "text": [
      "2250\n",
      "6 years, 2 months and 0 days\n"
     ]
    }
   ],
   "source": [
    "#Done\n",
    "def daysconverter(x):\n",
    "    year = x // 365\n",
    "    x = x - (365 * year)\n",
    "    months = x // 30\n",
    "    x = x - (30 * months)\n",
    "    print(year,\"years,\",months,\"months and\",x,\"days\")\n",
    "    \n",
    "days = int(input())\n",
    "daysconverter(days)"
   ]
  },
  {
   "cell_type": "markdown",
   "metadata": {
    "colab_type": "text",
    "id": "SMPiTBn-5D78"
   },
   "source": [
    "### Task 7\n",
    "Write a function called **splitting_money** that takes an “amount” of money as a argument.\n",
    "\n",
    "Your first task is to take the “amount” of money as user input and pass the value to the function paramater.\n",
    " \n",
    "Your second task is to implement the function and calculate how that money can be split into 500, 100, 50, 20, 10, 5, 2, and 1 taka notes.\n",
    "\n",
    "Then print the returned value in the function call.\n",
    "\n",
    "**Example1:** \\\n",
    "If the money is 1234, then the function should return \n",
    "\n",
    "\"500 Taka: 2 note(s) \\\n",
    "100 Taka: 2 note(s) \\\n",
    "20 Taka: 1 note(s) \\\n",
    "10 Taka: 1 note(s) \\\n",
    "2 Taka: 2 note(s)\"\n",
    "\n",
    "**Example2:** \\\n",
    "If the money is 151, then the function should return\n",
    "\n",
    "\"100 Taka: 1 note(s)\\\n",
    "50 Taka: 1 note(s)\\\n",
    "1 Taka: 1 note(s)\"\n",
    "\n",
    "\n",
    "**Hints:** \\\n",
    "This task’s calculation is similar to Assignment-1’s seconds to hours, minutes conversion. To return the result containing multiple strings, you need to store it in a variable and return it at the end of the function.\n"
   ]
  },
  {
   "cell_type": "code",
   "execution_count": 11,
   "metadata": {
    "colab": {},
    "colab_type": "code",
    "id": "WQS_DPXn5D79"
   },
   "outputs": [
    {
     "name": "stdout",
     "output_type": "stream",
     "text": [
      "1234\n",
      "\"500 Taka: 2 note(s)\n",
      "100 Taka: 2 note(s)\n",
      "20 Taka: 1 note(s)\n",
      "10 Taka: 1 note(s)\n",
      "2 Taka: 2 note(s)\"\n"
     ]
    }
   ],
   "source": [
    "#Done\n",
    "def splitting_money(amount):\n",
    "    fiveHundrad,oneHundrad,fifty,twenty,ten,five,two = (0,0,0,0,0,0,0) #tuple unpacking\n",
    "    if (amount // 500) != 0:\n",
    "        fiveHundrad = amount // 500\n",
    "        amount -= fiveHundrad * 500\n",
    "    if (amount // 100) != 0:\n",
    "        oneHundrad = amount // 100\n",
    "        amount -= oneHundrad * 100\n",
    "    if (amount // 50) != 0:\n",
    "        fifty = amount // 50\n",
    "        amount -= fifty * 50\n",
    "    if (amount // 20) != 0:\n",
    "        twenty = amount // 20\n",
    "        amount -= twenty * 20\n",
    "    if (amount // 10) != 0:\n",
    "        ten = amount // 10\n",
    "        amount -= ten * 10\n",
    "    if (amount // 5) != 0:\n",
    "        five = amount // 5\n",
    "        amount -= five * 5\n",
    "    if (amount // 2) != 0:\n",
    "        two = amount // 2\n",
    "        amount -= two * 2\n",
    "    collections = {'500':fiveHundrad,'100':oneHundrad,'50':fifty,'20':twenty,'10':ten,'5':five,'2':two,'1':amount}\n",
    "    firstAttempt = ''\n",
    "    for key,val in collections.items():\n",
    "        if val == 0:\n",
    "            continue\n",
    "        else:\n",
    "            firstAttempt += str(key) + ' Taka: ' +str(val) + ' note(s)' + '\\n'\n",
    "    returnable = '\"'+firstAttempt[0:-1] + '\"' #using slicing to remove last \\n character \n",
    "    return returnable\n",
    "money = int(input())\n",
    "print(splitting_money(money)) # i could also store return value in another variable and then print that variable, however I believe in DRY\n"
   ]
  },
  {
   "cell_type": "markdown",
   "metadata": {
    "colab_type": "text",
    "id": "8-vvES0i5D8B"
   },
   "source": [
    "### Task 8\n",
    "Write a function called **show_palindrome** that takes a number as an argument and then returns a palindrome string. Finally, prints the returned value in the function call.\n",
    "\n",
    "**Example1:** \\\n",
    "**Function Call:**\\\n",
    "show_palindrome(5)\\\n",
    "**Output:**\\\n",
    "123454321\n",
    "\n",
    "===================\n",
    "\n",
    "**Example2:** \\\n",
    "**Function Call:**\\\n",
    "show_palindrome(3)\\\n",
    "**Output:**\\\n",
    "12321\n"
   ]
  },
  {
   "cell_type": "code",
   "execution_count": 1,
   "metadata": {
    "colab": {},
    "colab_type": "code",
    "id": "QN-Iu8sz5D8C"
   },
   "outputs": [
    {
     "name": "stdout",
     "output_type": "stream",
     "text": [
      "123454321\n"
     ]
    }
   ],
   "source": [
    "#Done\n",
    "def show_palindrome(x):\n",
    "    main = ''\n",
    "    for i in range(1,x+1):\n",
    "        main += str(i)\n",
    "    for i in range(x-1,0,-1):\n",
    "        main += str(i)\n",
    "    return main\n",
    "\n",
    "print(show_palindrome(5))"
   ]
  },
  {
   "cell_type": "markdown",
   "metadata": {
    "colab_type": "text",
    "id": "V_PVNpx45D8F"
   },
   "source": [
    "### Task 9\n",
    "Write a function called **show_palindromic_triangle** that takes a number as a argument and prints a Palindromic Triangle in the function. \n",
    "\n",
    "\n",
    "**Example1:** \\\n",
    "**Function Call:**\\\n",
    "show_palindromic_triangle(5)\\\n",
    "**Output:**\n",
    "\n",
    "&emsp; &emsp; &emsp; &emsp; 1\\\n",
    "&emsp; &emsp; &emsp; 1 &nbsp; 2 &nbsp; 1 \\\n",
    "&emsp; &emsp; 1 &nbsp; 2 &nbsp; 3 &nbsp; 2 &nbsp; 1 \\\n",
    "&emsp; 1 &nbsp; 2 &nbsp; 3 &nbsp; 4 &nbsp; 3 &nbsp; 2 &nbsp; 1 \\\n",
    "1 &nbsp; 2 &nbsp; 3 &nbsp; 4 &nbsp; 5 &nbsp; 4 &nbsp; 3 &nbsp; 2 &nbsp; 1\n",
    "\n",
    "=============================================================\n",
    "\n",
    "\n",
    "**Example1:** \\\n",
    "**Function Call:**\\\n",
    "show_palindromic_triangle(3)\\\n",
    "**Output:**\n",
    "\n",
    "&emsp; &emsp; 1 \\\n",
    "&emsp; 1 &nbsp; 2 &nbsp; 1 \\\n",
    "1 &nbsp; 2 &nbsp; 3 &nbsp; 2 &nbsp; 1\n",
    "\n",
    "\n",
    "**Hints:** \\\n",
    "Need to use both print() and print( , end = \" \") functions"
   ]
  },
  {
   "cell_type": "code",
   "execution_count": 3,
   "metadata": {
    "colab": {},
    "colab_type": "code",
    "id": "fUu0BrHz5D8G"
   },
   "outputs": [
    {
     "name": "stdout",
     "output_type": "stream",
     "text": [
      "                                                         1  \n",
      "                                                      1  2  1  \n",
      "                                                   1  2  3  2  1  \n",
      "                                                1  2  3  4  3  2  1  \n",
      "                                             1  2  3  4  5  4  3  2  1  \n",
      "                                          1  2  3  4  5  6  5  4  3  2  1  \n",
      "                                       1  2  3  4  5  6  7  6  5  4  3  2  1  \n",
      "                                    1  2  3  4  5  6  7  8  7  6  5  4  3  2  1  \n",
      "                                 1  2  3  4  5  6  7  8  9  8  7  6  5  4  3  2  1  \n",
      "                              1  2  3  4  5  6  7  8  9  10 9  8  7  6  5  4  3  2  1  \n",
      "                           1  2  3  4  5  6  7  8  9  10 11 10 9  8  7  6  5  4  3  2  1  \n",
      "                        1  2  3  4  5  6  7  8  9  10 11 12 11 10 9  8  7  6  5  4  3  2  1  \n",
      "                     1  2  3  4  5  6  7  8  9  10 11 12 13 12 11 10 9  8  7  6  5  4  3  2  1  \n",
      "                  1  2  3  4  5  6  7  8  9  10 11 12 13 14 13 12 11 10 9  8  7  6  5  4  3  2  1  \n",
      "               1  2  3  4  5  6  7  8  9  10 11 12 13 14 15 14 13 12 11 10 9  8  7  6  5  4  3  2  1  \n",
      "            1  2  3  4  5  6  7  8  9  10 11 12 13 14 15 16 15 14 13 12 11 10 9  8  7  6  5  4  3  2  1  \n",
      "         1  2  3  4  5  6  7  8  9  10 11 12 13 14 15 16 17 16 15 14 13 12 11 10 9  8  7  6  5  4  3  2  1  \n",
      "      1  2  3  4  5  6  7  8  9  10 11 12 13 14 15 16 17 18 17 16 15 14 13 12 11 10 9  8  7  6  5  4  3  2  1  \n",
      "   1  2  3  4  5  6  7  8  9  10 11 12 13 14 15 16 17 18 19 18 17 16 15 14 13 12 11 10 9  8  7  6  5  4  3  2  1  \n",
      "1  2  3  4  5  6  7  8  9  10 11 12 13 14 15 16 17 18 19 20 19 18 17 16 15 14 13 12 11 10 9  8  7  6  5  4  3  2  1  \n"
     ]
    }
   ],
   "source": [
    "#Done\n",
    "def show_palindrome(x): # i'll use two function\n",
    "    main = ''\n",
    "    for i in range(1,x+1):\n",
    "        if i >=10:  #use it to keep the patten same even after 9 \n",
    "            main += str(i) + \" \"\n",
    "        else:\n",
    "            main += str(i) + \"  \"\n",
    "    for i in range(x-1,0,-1):\n",
    "        if i >=10:  #use it to keep the patten same even after 9 \n",
    "            main += str(i) + \" \"\n",
    "        else:\n",
    "            main += str(i) + \"  \"\n",
    "    print(main)\n",
    "def show_palindromic_triangle(x):\n",
    "    for i in range(1,x+1):\n",
    "        for j in range(x-i):\n",
    "            print(\"   \", end = \"\")\n",
    "        show_palindrome(i)\n",
    "\n",
    "show_palindromic_triangle(20)"
   ]
  },
  {
   "cell_type": "markdown",
   "metadata": {
    "colab_type": "text",
    "id": "iLTMEWXg5D8M"
   },
   "source": [
    "### Task 10\n",
    "Write a function called **area_circumference_generator** that takes a radius of a circle as a  function parameter and calculates its circumference and area. Then returns these two results as a **tuple** and prints the results using tuple unpacking in the function call accorrding to the given format. <font color='red'>[Must use tuple packing & unpacking] </font> \n",
    "\n",
    "**Example1:** \\\n",
    "**Function Call:**\\\n",
    "area_circumference_generator(1)\\\n",
    "**Output:**\\\n",
    "(3.141592653589793, 6.283185307179586)\\\n",
    "Area of the circle is 3.141592653589793 and circumference is 6.283185307179586\n",
    "\n",
    "====================================\n",
    "\n",
    "**Example2:** \\\n",
    "**Function Call:**\\\n",
    "area_circumference_generator(1.5)\\\n",
    "**Output:**\\\n",
    "(7.0685834705770345, 9.42477796076938)\\\n",
    "Area of the circle is 7.0685834705770345 and circumference is 9.42477796076938\n",
    "\n",
    "====================================\n",
    "\n",
    "\n",
    "**Example3:** \\\n",
    "**Function Call:**\\\n",
    "area_circumference_generator(2.5)\\\n",
    "**Output:**\\\n",
    "(19.634954084936208, 15.707963267948966)\\\n",
    "Area of the circle is 19.634954084936208 and circumference is 15.707963267948966\n"
   ]
  },
  {
   "cell_type": "code",
   "execution_count": 9,
   "metadata": {
    "colab": {},
    "colab_type": "code",
    "id": "k8SLTHf35D8N"
   },
   "outputs": [
    {
     "name": "stdout",
     "output_type": "stream",
     "text": [
      "(7.0685834705770345, 9.42477796076938)\n",
      "Area of the circle is 7.0685834705770345 and circumference is 9.42477796076938\n"
     ]
    }
   ],
   "source": [
    "#Done\n",
    "import math\n",
    "def area_circumference_generator(x):\n",
    "    circumference = 2 * math.pi * x\n",
    "    area = math.pi * x * x\n",
    "    my_tuple = area,circumference # tuple packing\n",
    "    return my_tuple\n",
    "\n",
    "area_circumference = area_circumference_generator(1.5)\n",
    "area , circumference = area_circumference #tuple unpacking , I can also reuse same variable that is in the function,because in the function they are local variable \n",
    "print(area_circumference)\n",
    "print(\"Area of the circle is\",area,\"and circumference is\",circumference)"
   ]
  },
  {
   "cell_type": "markdown",
   "metadata": {
    "colab_type": "text",
    "id": "NpgEU6ZI5D8S"
   },
   "source": [
    "### Task 11\n",
    "Write a function called **make_square** that takes a tuple in the parameter as a range of numbers (starting point and ending point (included)). The function should **return a dictionary** with the numbers as keys and its squares as values.\n",
    "\n",
    "**Example1:** \\\n",
    "**Function Call:**\\\n",
    "make_square((1,3))\\\n",
    "**Output:**\\\n",
    "{1: 1, 2: 4, 3: 9}\n",
    "\n",
    "====================================\n",
    "\n",
    "**Example2:** \\\n",
    "**Function Call:**\\\n",
    "make_square((5,9))\\\n",
    "**Output:**\\\n",
    "{5: 25, 6: 36, 7: 49, 8: 64, 9: 81}\n",
    "\n",
    "\n",
    "\n",
    "**Hints:** \\\n",
    "You need to declare a dictionary to store the result. You should use the range function to run the “for loop”.\n"
   ]
  },
  {
   "cell_type": "code",
   "execution_count": 4,
   "metadata": {
    "colab": {},
    "colab_type": "code",
    "id": "-KGD8b0F5D8T"
   },
   "outputs": [
    {
     "name": "stdout",
     "output_type": "stream",
     "text": [
      "{5: 25, 6: 36, 7: 49, 8: 64, 9: 81}\n"
     ]
    }
   ],
   "source": [
    "#Done\n",
    "def make_square(Tuple):\n",
    "    start, end = Tuple\n",
    "    dictionary = {}\n",
    "    for i in range(start,end+1):\n",
    "        dictionary[i] = i*i\n",
    "    return dictionary\n",
    "print(make_square((5,9)))"
   ]
  },
  {
   "cell_type": "markdown",
   "metadata": {
    "colab_type": "text",
    "id": "ZSdXyrvP5D8X"
   },
   "source": [
    "### Task 12\n",
    "Write a function called **remove_odd** that takes a list of numbers that have both even and odd numbers mixed. \\\n",
    "Your function should remove all the odd numbers and **return a compact list** which only contains the even numbers. \n",
    "\n",
    "**Example1:** \\\n",
    "**Function Call:**\\\n",
    "remove_odd ([21, 33, 44, 66, 11, 1, 88, 45, 10, 9])\\\n",
    "**Output:**\\\n",
    "[44, 66, 88, 10]\n",
    "\n",
    "====================================\n",
    "\n",
    "**Example2:** \\\n",
    "**Function Call:**\\\n",
    "remove_odd ([11,2,3,4,5,2,0,5,3])\\\n",
    "**Output:**\\\n",
    "[2, 4, 2, 0]\n",
    "\n"
   ]
  },
  {
   "cell_type": "code",
   "execution_count": 3,
   "metadata": {
    "colab": {},
    "colab_type": "code",
    "id": "7gfZ__Nx5D8X"
   },
   "outputs": [
    {
     "name": "stdout",
     "output_type": "stream",
     "text": [
      "[44, 66, 88, 10]\n"
     ]
    }
   ],
   "source": [
    "#Done\n",
    "def remove_odd(List):\n",
    "    evenList = []\n",
    "    for item in List:\n",
    "        if item%2 == 0:\n",
    "            evenList.append(item)\n",
    "    List = evenList\n",
    "    return List\n",
    "print(remove_odd ([21, 33, 44, 66, 11, 1, 88, 45, 10, 9]))"
   ]
  },
  {
   "cell_type": "markdown",
   "metadata": {
    "colab_type": "text",
    "id": "J7xaBB5i5D8c"
   },
   "source": [
    "### Task 13\n",
    "Write a function called **rem_duplicate** that takes a tuple in the parameter and return a tuple removing all the duplicate values. Then print the returned tuple in the function call.\n",
    "\n",
    "**Example1:** \\\n",
    "**Function Call:**\\\n",
    "rem_duplicate((1,1,1,2,3,4,5,6,6,6,6,4,0,0,0))\\\n",
    "**Output:**\\\n",
    "(1, 2, 3, 4, 5, 6, 0)\n",
    "\n",
    "====================================\n",
    "\n",
    "**Example2:** \\\n",
    "**Function Call:**\\\n",
    "rem_duplicate((\"Hi\", 1, 2, 3, 3, \"Hi\",'a', 'a', [1,2]))\\\n",
    "**Output:**\\\n",
    "('Hi', 1, 2, 3, 'a', [1, 2])\n",
    "\n",
    "\n",
    "**Hints:** \\\n",
    "Unlike lists, tuples are immutable so, the tuple taken as an argument cannot be modified. But list can be modified and lastly for returning the result use type conversion. You need to use membership operators (in, not in) for preventing adding any duplicates values.\n"
   ]
  },
  {
   "cell_type": "code",
   "execution_count": 2,
   "metadata": {
    "colab": {},
    "colab_type": "code",
    "id": "mniLLbJY5D8d"
   },
   "outputs": [
    {
     "name": "stdout",
     "output_type": "stream",
     "text": [
      "('Hi', 1, 2, 3, 'a', [1, 2])\n"
     ]
    }
   ],
   "source": [
    "#Done\n",
    "def rem_duplicate(Tuple):\n",
    "    single_item_list = []\n",
    "    for item in Tuple:\n",
    "        if item not in single_item_list:\n",
    "            single_item_list.append(item)\n",
    "    single_item_list =tuple(single_item_list)\n",
    "    return single_item_list\n",
    "\n",
    "print(rem_duplicate((\"Hi\", 1, 2, 3, 3, \"Hi\",'a', 'a', [1,2])))"
   ]
  },
  {
   "cell_type": "markdown",
   "metadata": {
    "colab_type": "text",
    "id": "yJxb2yrb5D8h"
   },
   "source": [
    "### Task 14\n",
    "Write a python function that takes a list as an argument. Your task is to create a new list where **each element can be present at max 2 times**. Inside the function, print the number of elements removed from the given list. Finally, return the new list and print the result.\n",
    "\n",
    "**Hint:** Use list_name.count(element) to count the total number of times an element is in a list. list_name is your new list for this problem.\n",
    "\n",
    "**Function Call:**\\\n",
    "function_name([1, 2, 3, 3, 3, 3, 4, 5, 8, 8])\\\n",
    "**Output:**\\\n",
    "Removed: 2\\\n",
    "[1, 2, 3, 3, 4, 5, 8, 8]\\\n",
    "================================\\\n",
    "**Function Call:**\\\n",
    "function_name([10, 10, 15, 15, 20])\\\n",
    "**Output:**\\\n",
    "Removed: 0\\\n",
    "[10, 10, 15, 15, 20]"
   ]
  },
  {
   "cell_type": "code",
   "execution_count": 4,
   "metadata": {
    "colab": {},
    "colab_type": "code",
    "id": "URBhYdgt5D8h"
   },
   "outputs": [
    {
     "name": "stdout",
     "output_type": "stream",
     "text": [
      "Removed: 2\n",
      "[1, 2, 3, 3, 4, 5, 8, 8]\n"
     ]
    }
   ],
   "source": [
    "#Done\n",
    "def not_moreThan_two(List):\n",
    "    list_name = []\n",
    "    for item in List:\n",
    "        if list_name.count(item) < 2:\n",
    "            list_name.append(item)\n",
    "    \n",
    "    removed = len(List) - len(list_name)\n",
    "    print('Removed:',removed)\n",
    "    return list_name\n",
    "\n",
    "print(not_moreThan_two([1, 2, 3, 3, 3, 3, 4, 5, 8, 8]))"
   ]
  },
  {
   "cell_type": "markdown",
   "metadata": {
    "colab_type": "text",
    "id": "oZRJfnm85D8m"
   },
   "source": [
    "### Task 15\n",
    "Write a function which will take 4 arguments. They are:\n",
    "- starting value(inclusive)\n",
    "- ending value(exclusive)\n",
    "- first divisor\n",
    "- second divisor\n",
    "\n",
    "Your first task is to take these arguments as user input and pass these values to the function.\n",
    "\n",
    "Your second task is to implement the function and find all the numbers that are divisible by the <u>first divisor or second divisor but not both</u> from the starting value(inclusive) and ending value(exclusive). Add all the numbers that are divisible and finally return this value. Print the returned value in the function call.\n",
    "\n",
    "**Input:**\\\n",
    "10\\\n",
    "40\\\n",
    "4\\\n",
    "7\\\n",
    "**Function Call:**\\\n",
    "function_name(10, 40, 4, 7)\\\n",
    "**Output:**\\\n",
    "210\\\n",
    "================================\\\n",
    "**Input:**\\\n",
    "5\\\n",
    "100\\\n",
    "3\\\n",
    "4\\\n",
    "**Function Call:**\\\n",
    "function_name(5, 100, 3, 4)\\\n",
    "**Output:**\\\n",
    "2012\n",
    "\n",
    "\n"
   ]
  },
  {
   "cell_type": "code",
   "execution_count": 6,
   "metadata": {
    "colab": {},
    "colab_type": "code",
    "id": "WStErxZP5D8m"
   },
   "outputs": [
    {
     "name": "stdout",
     "output_type": "stream",
     "text": [
      "5\n",
      "100\n",
      "3\n",
      "4\n",
      "2012\n"
     ]
    }
   ],
   "source": [
    "#Done\n",
    "def task15(starting_value,ending_value,first_divisor,second_divisor):\n",
    "    final_items = []\n",
    "    for i in range(starting_value,ending_value):\n",
    "        if ((i%first_divisor==0) or (i%second_divisor == 0)) and not((i%first_divisor==0) and (i%second_divisor == 0)):\n",
    "            final_items.append(i)\n",
    "    return sum(final_items)\n",
    "\n",
    "a = int(input()); b = int(input()); c = int(input()); d = int(input())\n",
    "print(task15(a,b,c,d))"
   ]
  },
  {
   "cell_type": "markdown",
   "metadata": {
    "colab_type": "text",
    "id": "vqET24dk5D8u"
   },
   "source": [
    "### Task 16\n",
    "Write a python function that will perform the basic calculation (addition, subtraction, multiplication and division) based on 3 arguments. They are:\n",
    "- Operator ('+', '-', '/', '*')\n",
    "- First Operand (any number)\n",
    "- Second Operand (any number)\n",
    "\n",
    "Your first task is to take these arguments as user input and pass the values to the function parameters.\n",
    "\n",
    "Your second task is to write a function and performs the calculation based on the given operator. Then, finally return the result in the function call and print the result.\n",
    "\n",
    "**Input:**\\\n",
    "\"+\"\\\n",
    "10\\\n",
    "20\\\n",
    "**Function Call:**\\\n",
    "function_name(\"+\", 10, 20)\\\n",
    "**Output:**\\\n",
    "30\n",
    "\n",
    "================================\n",
    "\n",
    "**Input:**\\\n",
    "\"*\"\\\n",
    "5.5\\\n",
    "2.5\\\n",
    "**Function Call:**\\\n",
    "function_name(\"*\", 5.5, 2.5)\\\n",
    "**Output:**\\\n",
    "13.75\n"
   ]
  },
  {
   "cell_type": "code",
   "execution_count": 17,
   "metadata": {
    "colab": {},
    "colab_type": "code",
    "id": "sh7YQRv_5D8v"
   },
   "outputs": [
    {
     "name": "stdout",
     "output_type": "stream",
     "text": [
      "+\n",
      "10\n",
      "25\n",
      "35\n"
     ]
    }
   ],
   "source": [
    "#Done\n",
    "\n",
    "def math_function(operator,first_operand,second_operand):\n",
    "    if operator == '+':\n",
    "        result = first_operand + second_operand\n",
    "    elif operator == '-':\n",
    "        result = first_operand - second_operand\n",
    "    elif operator == '*':\n",
    "        result = first_operand * second_operand\n",
    "    elif operator == '/':\n",
    "        result = first_operand / second_operand\n",
    "    \n",
    "    if result - int(result) == 0 : #did it to give output as simillar as the example\n",
    "        result = int(result)\n",
    "\n",
    "    return result\n",
    "\n",
    "o = input(); f = float(input()); s = float(input()); # use single line because multiple line seems odd to me\n",
    "print(math_function(o,f,s))"
   ]
  },
  {
   "cell_type": "markdown",
   "metadata": {
    "colab_type": "text",
    "id": "j6RsRgJP5D8y"
   },
   "source": [
    "### Task 17\n",
    "Write a python function which will take a string as an argument. \n",
    "\n",
    "Your first task is to take a string as user input and pass the value to the function.\n",
    "\n",
    "Your second task is to implement a function which will check whether all the alphabets from a to j (convert all the alphabets to lowercase) has appeared at least once in the given string or not. \n",
    "- If all of these alphabets (a to j) appear at least once, then the result will be 5. \n",
    "- If any one of the alphabets (a to j) is not in the given string, then the result will be 6.\n",
    "\n",
    "Return this result and print the statement, \"Chelsea is the best club in England\" that many times.\n",
    "\n",
    "**Example:**\n",
    "\"A black jackal is hunting a full grown deer\" \n",
    "\n",
    "Here all the alphabets from A to J are present at least once. So, the function will return 5 and will print the statement 5 times.\n",
    "\n",
    "**Input:**\\\n",
    "\"A black jackal is hunting a full grown deer\"\\\n",
    "**Function Call:**\\\n",
    "function_name(\"A black jackal is hunting a full grown deer\")\\\n",
    "**Output:**\\\n",
    "Chelsea is the best club in England\\\n",
    "Chelsea is the best club in England\\\n",
    "Chelsea is the best club in England\\\n",
    "Chelsea is the best club in England\\\n",
    "Chelsea is the best club in England\n",
    "\n",
    "==============================================\n",
    "\n",
    "**Input:**\\\n",
    "\"ABBCDEFEFGHI\"\\\n",
    "**Function Call:**\\\n",
    "function_name(\"ABBCDEFEFGHI\")\\\n",
    "**Output:**\\\n",
    "Chelsea is the best club in England\\\n",
    "Chelsea is the best club in England\\\n",
    "Chelsea is the best club in England\\\n",
    "Chelsea is the best club in England\\\n",
    "Chelsea is the best club in England\\\n",
    "Chelsea is the best club in England\n"
   ]
  },
  {
   "cell_type": "code",
   "execution_count": 28,
   "metadata": {
    "colab": {},
    "colab_type": "code",
    "id": "8u2sBE7c5D8z"
   },
   "outputs": [
    {
     "name": "stdout",
     "output_type": "stream",
     "text": [
      "ABBCDEFEFGHI\n",
      "Chelsea is the best club in England\n",
      "Chelsea is the best club in England\n",
      "Chelsea is the best club in England\n",
      "Chelsea is the best club in England\n",
      "Chelsea is the best club in England\n",
      "Chelsea is the best club in England\n"
     ]
    }
   ],
   "source": [
    "#Done\n",
    "def a_j_checker(sentence):\n",
    "    sentence = sentence.lower()\n",
    "    char_dict = {}\n",
    "    for char in sentence:\n",
    "        if char == \" \":\n",
    "            continue\n",
    "        elif char not in char_dict.keys():\n",
    "            char_dict[char] = 1\n",
    "        else:\n",
    "            char_dict.update({char : char_dict[char]+1})\n",
    "    test_items = 'abcdefghij'\n",
    "    result = 5\n",
    "    for char in test_items:\n",
    "        if char not in char_dict.keys():\n",
    "            result = 6\n",
    "            break\n",
    "    return result\n",
    "x = input()\n",
    "for i in range(a_j_checker(x)):\n",
    "    print('Chelsea is the best club in England')"
   ]
  },
  {
   "cell_type": "markdown",
   "metadata": {
    "colab_type": "text",
    "id": "KGitjtfO5D83"
   },
   "source": [
    "### Task 18\n",
    "Write a function which will take 2 arguments. They are:\n",
    "- Sentence \n",
    "- position \n",
    "\n",
    "Your first task is to take these arguments as user input and pass these values to the function parameters.\n",
    "\n",
    "Your second task is to implement the function and remove the characters at the index number which is divisible by the position (Avoid the index number 0 as it will always be divisible by the position, so no need to remove the index 0 character). \n",
    "Finally, add the removed characters at the end of the new string.\n",
    "\n",
    "Return the value and then finally, print the new string at the function call.\n",
    "\n",
    "**Input:**\\\n",
    "\"I love programming.\"\\\n",
    "3\\\n",
    "**Function call:**\\\n",
    "function_name(\"I love programming.\", 3)\\\n",
    "**Output:**\\\n",
    "I lveprgrmmngo oai.\n",
    "\n",
    "==============================================\n",
    "\n",
    "**Input:**\\\n",
    "\"Python is easy to learn. I love python.\"\\\n",
    "6\\\n",
    "**Function call:**\\\n",
    "function_name(\"Python is easy to learn. I love python.\", 6)\\\n",
    "**Output:**\\\n",
    "Pythonis eay to earn.I lov pythn. sl eo\n"
   ]
  },
  {
   "cell_type": "code",
   "execution_count": 30,
   "metadata": {
    "colab": {},
    "colab_type": "code",
    "id": "1Op6YcHY5D84"
   },
   "outputs": [
    {
     "name": "stdout",
     "output_type": "stream",
     "text": [
      "I love programming.\n",
      "3\n",
      "I lveprgrmmngo oai.\n"
     ]
    }
   ],
   "source": [
    "#Done\n",
    "def remove_remove(sentence,position):\n",
    "    new_string = ''\n",
    "    removed_items = ''\n",
    "    for i in range(0,len(sentence)):\n",
    "        if (i !=0) and (i % position == 0):\n",
    "            removed_items += sentence[i]\n",
    "        else:\n",
    "            new_string += sentence[i]\n",
    "    return new_string + removed_items\n",
    "\n",
    "s = input(); p = int(input())\n",
    "print(remove_remove(s,p))"
   ]
  },
  {
   "cell_type": "markdown",
   "metadata": {
    "colab_type": "text",
    "id": "5Gq0ZAzQ5D8-"
   },
   "source": [
    "### Task 19\n",
    "You have been hired as an app developer for the company karon_tumi_bekar. The company plans to make an app for a grocery store where the user can order groceries and see the total amount to be paid in the cart section. \n",
    "\n",
    "To build this feature, you have to write a function that takes 2 arguments. They are:\n",
    "- order_items (must be a list)\n",
    "- location (default value should be set to \"Dhanmondi\")\n",
    "\n",
    "Your first task is to take a list of items from the user. Pass the list into the function parameter along with the optional location (Use default argument technique). (Also, no need to take location as input, pass this any value you want.) \n",
    "\n",
    "Your second task is to implement the function. In the function, create a dictionary for the items shown in the table. Calculate the total price of the items passed as a list to the function. Additionally, add a delivery fee of 30 taka if the location is Dhanmondi. Otherwise, add a delivery fee of 70 taka. Finally, return the value and print it.\n",
    "\n",
    "| Item | Price(Tk) |\n",
    "| --- | --- |\n",
    "| Rice | 105 |\n",
    "| Potato | 20 |\n",
    "| Chicken | 250 |\n",
    "| Beef | 510 |\n",
    "| Oil | 85 |\n",
    "\n",
    "**Hint:** The keys are the items and values are the corresponding price. Iterate the items in the list and check if the items in the list are available in the dictionary keys or not. If it is available, add the price.\n",
    "\n",
    "**Example:**\\\n",
    "function_name([\"Rice\", \"Beef\", \"Rice\"], \"Mohakhali\")\n",
    "\n",
    "total = 105 + 510 + 105 = 720 (Take the price of each item and add them.)\\\n",
    "total = 720 + 70 = 790 (Finally, add the delivery fee based on the location.)\n",
    "\n",
    "**Input:**\\\n",
    "[\"Rice\", \"Beef\", \"Rice\"]\\\n",
    "**Function Call:**\\\n",
    "function_name([\"Rice\", \"Beef\", \"Rice\"], \"Mohakhali\")\\\n",
    "**Output:**\\\n",
    "790\n",
    "\n",
    "==============================================\n",
    "\n",
    "**Input:**\\\n",
    "[\"Rice\", \"Beef\", \"Rice\"]\\\n",
    "**Function Call:**\\\n",
    "function_name([\"Rice\", \"Beef\", \"Rice\"])\\\n",
    "**Output:**\\\n",
    "750"
   ]
  },
  {
   "cell_type": "code",
   "execution_count": 8,
   "metadata": {
    "colab": {},
    "colab_type": "code",
    "id": "-vQ3gIWm5D8-"
   },
   "outputs": [
    {
     "name": "stdout",
     "output_type": "stream",
     "text": [
      "365\n"
     ]
    }
   ],
   "source": [
    "#Done\n",
    "def to_be_paid(ordered_items,location=\"Dhanmondi\"):\n",
    "    price_of_items = {'rice':105,'potato':20,'chicken':250,'beef':510,'oil':85}\n",
    "    need_to_pay = 0\n",
    "    \n",
    "    for item in ordered_items:\n",
    "        item = item.lower()\n",
    "        if item in price_of_items.keys():\n",
    "            need_to_pay += price_of_items[item]\n",
    "    if location.lower() == \"dhanmondi\":\n",
    "        delivery_charge = 30\n",
    "    else:\n",
    "        delivery_charge = 70\n",
    "    need_to_pay += delivery_charge\n",
    "    return need_to_pay\n",
    "\n",
    "print(to_be_paid([\"Rice\", \"Oil\", \"Rice\"], \"Mohakhali\"))"
   ]
  },
  {
   "cell_type": "markdown",
   "metadata": {
    "colab_type": "text",
    "id": "XGLNNSH25D9B"
   },
   "source": [
    "### Task 20\n",
    "You have been hired by the Abahani football club to write a function that will calculate the total bonus on the yearly earnings of each player for the total goals they have scored. Since the number of players will vary, you decide to use the \"*args\" technique that you learned in your CSE110 class. (No need to take any input from the user. Call the functions and print the values inside the function.) \n",
    "For each player: pass the name, yearly earning, the total goal scored this season, bonus percent per goal. Additionally, if the goal scored is above 30, add an extra bonus of 10000 taka. If it is between 20 and 30 inclusive, add an extra 5000 taka.\n",
    "\n",
    "**Example:**\\\n",
    "function_name(\"Neymar\", 1200000, 30, 10)\n",
    "\n",
    "bonus = 30 * (10 / 100 * 1200000) + 5000 = 3605000\n",
    "\n",
    "**Function call:**\\\n",
    "function_name(\"Neymar\", 1200000, 30, 10)\\\n",
    "**Output:**\\\n",
    "Neymar earned a bonus of 3605000 Taka for 30 goals.\n",
    "\n",
    "=====================================================\n",
    "\n",
    "**Function call:**\\\n",
    "function_name(\"Neymar\", 1200000, 30, 10, \"Jamal\", 700000, 19, 5)\\\n",
    "**Output:**\\\n",
    "Neymar earned a bonus of 3605000 Taka for 30 goals.\\\n",
    "Jamal earned a bonus of 665000 Taka for 19 goals.\n",
    "\n",
    "\n",
    "\n"
   ]
  },
  {
   "cell_type": "code",
   "execution_count": 1,
   "metadata": {
    "colab": {},
    "colab_type": "code",
    "id": "IIz3msUa5D9B"
   },
   "outputs": [
    {
     "name": "stdout",
     "output_type": "stream",
     "text": [
      "Neymar earned a bonus of 3605000 Taka for 30 goals\n",
      "Jamal earned a bonus of 665000 Taka for 19 goals\n"
     ]
    }
   ],
   "source": [
    "#Done\n",
    "def bonus_calculator(*players):\n",
    "    player = []\n",
    "    for i in range (len(players)):\n",
    "        player.append(players[i])\n",
    "        if len(player) == 4:\n",
    "            if player[2] >= 20 and player[2]<=30:\n",
    "                bonus = (player[2] * ((player[3]/100)*player[1])) + 5000\n",
    "            elif player[2] > 30 :\n",
    "                bonus = (player[2] * ((player[3]/100)*player[1])) + 10000\n",
    "            else:\n",
    "                bonus = (player[2] * ((player[3]/100)*player[1]))\n",
    "            if bonus - int(bonus) == 0:\n",
    "                bonus = int(bonus)\n",
    "            print(player[0],'earned a bonus of',bonus,'Taka for',player[2],'goals')\n",
    "            player.clear()\n",
    "\n",
    "bonus_calculator(\"Neymar\", 1200000, 30, 10, \"Jamal\", 700000, 19, 5)"
   ]
  },
  {
   "cell_type": "code",
   "execution_count": null,
   "metadata": {
    "colab": {},
    "colab_type": "code",
    "id": "U6SYD49C5D9E"
   },
   "outputs": [],
   "source": [
    "Arigatou gozaimashita <3 <3 "
   ]
  }
 ],
 "metadata": {
  "colab": {
   "collapsed_sections": [],
   "name": "CSE110 Assignment05.ipynb",
   "provenance": []
  },
  "kernelspec": {
   "display_name": "Python 3",
   "language": "python",
   "name": "python3"
  },
  "language_info": {
   "codemirror_mode": {
    "name": "ipython",
    "version": 3
   },
   "file_extension": ".py",
   "mimetype": "text/x-python",
   "name": "python",
   "nbconvert_exporter": "python",
   "pygments_lexer": "ipython3",
   "version": "3.7.6"
  }
 },
 "nbformat": 4,
 "nbformat_minor": 1
}

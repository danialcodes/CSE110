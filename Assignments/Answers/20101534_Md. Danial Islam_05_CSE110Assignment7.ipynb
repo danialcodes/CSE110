{
 "cells": [
  {
   "cell_type": "markdown",
   "metadata": {
    "colab_type": "text",
    "id": "oMYzsTcnHEll"
   },
   "source": [
    "# CSE110 Assignment 7\n",
    "\n",
    "\n",
    "## Write the Python code of the following problems:\n",
    "**<font color='red'>[MUST MAINTAIN VARIABLE NAMING CONVENTIONS FOR ALL THE TASKS]</font>**"
   ]
  },
  {
   "cell_type": "markdown",
   "metadata": {
    "colab_type": "text",
    "id": "jT-t2zlnHEll"
   },
   "source": [
    "### Task 1\n",
    "\n",
    "Given a list named my_list. <br/>\n",
    "my_list=[10,1,20,3,6,2,5,11,15,2,12,14,17,18,29] <br/>\n",
    "Now use bubble sort to sort my_list into ascending order.\n",
    "\n",
    "**Output**<br/>\n",
    "[1, 2, 2, 3, 5, 6, 10, 11, 12, 14, 15, 17, 18, 20, 29]"
   ]
  },
  {
   "cell_type": "code",
   "execution_count": 3,
   "metadata": {
    "colab": {},
    "colab_type": "code",
    "id": "7qXVakLgHElm"
   },
   "outputs": [
    {
     "name": "stdout",
     "output_type": "stream",
     "text": [
      "[1, 2, 2, 3, 5, 6, 10, 11, 12, 14, 15, 17, 18, 20, 29]\n"
     ]
    }
   ],
   "source": [
    "#Done\n",
    "my_list=[10,1,20,3,6,2,5,11,15,2,12,14,17,18,29]\n",
    "\n",
    "for i in range(len(my_list) - 1):\n",
    "\tfor j in range(len(my_list)-1-i):\n",
    "\t\tif my_list[j] > my_list[j+1]:\n",
    "\t\t\tmax = my_list[j]\n",
    "\t\t\tmy_list[j] = my_list[j+1]\n",
    "\t\t\tmy_list[j+1] = max\n",
    "print(my_list) "
   ]
  },
  {
   "cell_type": "markdown",
   "metadata": {
    "colab_type": "text",
    "id": "w1QgeWd2HElp"
   },
   "source": [
    "### Task 2\n",
    "\n",
    "Given a list named my_list. <br/>\n",
    "my_list=[10,1,20,3,6,2,5,11,15,2,12,14,17,18,29] <br/>\n",
    "Now use selection sort to sort my_list into ascending order.\n",
    "\n",
    "**Output**<br/>\n",
    "[1, 2, 2, 3, 5, 6, 10, 11, 12, 14, 15, 17, 18, 20, 29]\n",
    "\n"
   ]
  },
  {
   "cell_type": "code",
   "execution_count": 4,
   "metadata": {
    "colab": {},
    "colab_type": "code",
    "id": "am0B_8ICHElq"
   },
   "outputs": [
    {
     "name": "stdout",
     "output_type": "stream",
     "text": [
      "[1, 2, 2, 3, 5, 6, 10, 11, 12, 14, 15, 17, 18, 20, 29]\n"
     ]
    }
   ],
   "source": [
    "#Done\n",
    "my_list=[10,1,20,3,6,2,5,11,15,2,12,14,17,18,29]\n",
    "\n",
    "for i in range(len(my_list)):\n",
    "\tmin_index = i\n",
    "\tfor j in range(i+1,len(my_list)):\n",
    "\t\tif my_list[j] < my_list[min_index]:\n",
    "\t\t\tmin_index = j\n",
    "\ttemp = my_list[min_index]\n",
    "\tmy_list[min_index] = my_list[i]\n",
    "\tmy_list[i] = temp\n",
    "print(my_list) "
   ]
  },
  {
   "cell_type": "markdown",
   "metadata": {
    "colab_type": "text",
    "id": "j4ffr2CAHElt"
   },
   "source": [
    "### Task  3\n",
    "\n",
    "Given a list named my_list. <br/>\n",
    "my_list=[10,1,20,3,6,2,5,11,15,2,12,14,17,18,29] <br/>\n",
    "Now use any of the two sorts used above to sort the list in descending order.\n",
    "\n",
    "**Output**<br/>\n",
    "[29, 20, 18, 17, 15, 14, 12, 11, 10, 6, 5, 3, 2, 2, 1]\n"
   ]
  },
  {
   "cell_type": "code",
   "execution_count": 3,
   "metadata": {
    "colab": {},
    "colab_type": "code",
    "id": "n2X3YR-_HElt"
   },
   "outputs": [
    {
     "name": "stdout",
     "output_type": "stream",
     "text": [
      "[29, 20, 18, 17, 15, 14, 12, 11, 10, 6, 5, 3, 2, 2, 1]\n"
     ]
    }
   ],
   "source": [
    "#Done\n",
    "my_list=[10,1,20,3,6,2,5,11,15,2,12,14,17,18,29]\n",
    "\n",
    "for i in range(len(my_list) - 1):\n",
    "\tfor j in range(len(my_list)-1-i):\n",
    "\t\tif my_list[j] < my_list[j+1]:\n",
    "\t\t\tmin = my_list[j]\n",
    "\t\t\tmy_list[j] = my_list[j+1]\n",
    "\t\t\tmy_list[j+1] = min\n",
    "print(my_list) "
   ]
  },
  {
   "cell_type": "markdown",
   "metadata": {
    "colab_type": "text",
    "id": "9iYiiTWWHElw"
   },
   "source": [
    "### Task 4\n",
    "\n",
    "Suppose you have a sitting arrangement of the students of the final exam in a list. The list contains the last two digits of their roll number.<br/>\n",
    "\n",
    "sitting_list=[10,30,20,70,11,15,22,16,58,100,12,56,70,80] <br/>\n",
    "\n",
    "Now you want to organize the sitting arrangement. You decided to sort all the students in the even indices into ascending order and all the students in the odd indices  into descending order.  <br/>\n",
    "\n",
    "So write a python program that organizes the list for you the way you decided.<br/>\n",
    "\n",
    "\n",
    "**Sample Output**<br/>\n",
    "[10, 100, 11, 80, 12, 70, 20, 56, 22, 30, 58, 16, 70, 15]"
   ]
  },
  {
   "cell_type": "code",
   "execution_count": 21,
   "metadata": {
    "colab": {},
    "colab_type": "code",
    "id": "nPdUAKDJHElw"
   },
   "outputs": [
    {
     "name": "stdout",
     "output_type": "stream",
     "text": [
      "[10, 100, 11, 80, 12, 70, 20, 56, 22, 30, 58, 16, 70, 15]\n"
     ]
    }
   ],
   "source": [
    "#Done\n",
    "#[10, 100, 11, 80, 12, 70, 20, 56, 22, 30, 58, 16, 70, 15]\n",
    "\n",
    "sitting_list=[10,30,20,70,11,15,22,16,58,100,12,56,70,80]\n",
    "even_index_list = []\n",
    "odd_index_list = []\n",
    "l = len(sitting_list)\n",
    "\n",
    "for i in range(l):\n",
    "    if i%2 == 0:\n",
    "        even_index_list.append(sitting_list[i])\n",
    "    else:\n",
    "        odd_index_list.append(sitting_list[i])\n",
    "        \n",
    "#for accending even indices   \n",
    "for i in range(len(even_index_list) - 1):\n",
    "    for j in range(len(even_index_list)-1-i):\n",
    "        if even_index_list[j] > even_index_list[j+1]:\n",
    "            max = even_index_list[j]\n",
    "            even_index_list[j] = even_index_list[j+1]\n",
    "            even_index_list[j+1] = max\n",
    "            \n",
    "#for decending odd indices\n",
    "for i in range(len(odd_index_list) - 1):\n",
    "    for j in range(len(odd_index_list)-1-i):\n",
    "        if odd_index_list[j] < odd_index_list[j+1]:\n",
    "            min = odd_index_list[j]\n",
    "            odd_index_list[j] = odd_index_list[j+1]\n",
    "            odd_index_list[j+1] = min\n",
    "            \n",
    "sitting_list.clear()\n",
    "for i in range(l):\n",
    "    if i%2 == 0:\n",
    "        sitting_list.append(even_index_list[0])\n",
    "        del even_index_list[0] \n",
    "    else:\n",
    "        sitting_list.append(odd_index_list[0])\n",
    "        del odd_index_list[0]\n",
    "print(sitting_list)"
   ]
  },
  {
   "cell_type": "markdown",
   "metadata": {
    "colab_type": "text",
    "id": "oVR1Tsa0HElz"
   },
   "source": [
    "### Task 5\n",
    "\n",
    "Suppose a list contains the final exam results of CSE110, PHY111, and MAT110 of each student in a listed form. Your task is to sort the list based on a course name that will be given by the user and print the names after sorting. <br/>\n",
    "\n",
    "For example, a list looks like <br/>\n",
    "Lst = [ [‘Farzad’,95,87,91] , [‘Mahjabin’,92,90,83], [‘Sadman’,87,92,80], [‘Nakhla’,85,94,90] ] <br/>\n",
    "where for each list, 1st index is name, 2nd index is CSE110, 3rd index is PHY111 and 4th index is MAT110. \n",
    "\n",
    "**Sample Input**<br/>\n",
    "MAT110\n",
    "\n",
    "**Sample Output**<br/>\n",
    "Farzad <br/>\n",
    "Nakhla <br/>\n",
    "Mahjabin <br/>\n",
    "Sadman\n",
    "\n",
    "**Hint:**<br/>\n",
    "Nested list can be accessed by listname[firstIndex][secondIndex] like lst[0][0] will give Farzad\n"
   ]
  },
  {
   "cell_type": "code",
   "execution_count": 7,
   "metadata": {
    "colab": {},
    "colab_type": "code",
    "id": "539b2P1NHElz"
   },
   "outputs": [
    {
     "name": "stdout",
     "output_type": "stream",
     "text": [
      "mat110\n",
      "Farzad\n",
      "Nakhla\n",
      "Mahjabin\n",
      "Sadman\n"
     ]
    }
   ],
   "source": [
    "#Done\n",
    "def course_id_genarator(course_name):\n",
    "    course_name = course_name.lower()\n",
    "    if course_name == 'cse110':\n",
    "        return 1\n",
    "    elif course_name == 'phy111':\n",
    "        return 2\n",
    "    elif course_name == 'mat110':\n",
    "        return 3\n",
    "    else:\n",
    "        return None\n",
    "    \n",
    "def result(course_id):\n",
    "    if course_id != None:\n",
    "        for i in range(len(Lst) - 1):\n",
    "            for j in range(len(Lst)-1-i):\n",
    "                if Lst[j][course_id] < Lst[j+1][course_id]:\n",
    "                    min = Lst[j]\n",
    "                    Lst[j] = Lst[j+1]\n",
    "                    Lst[j+1] = min\n",
    "        for name in Lst:\n",
    "            print(name[0])\n",
    "    else:\n",
    "        print(\"There is no result for\",course_name.upper(),'in the list')\n",
    "\n",
    "\n",
    "Lst = [ ['Farzad',95,87,91] , ['Mahjabin',92,90,83], ['Sadman',87,92,80], ['Nakhla',85,94,90] ]\n",
    "\n",
    "course_name = input()\n",
    "course_id = course_id_genarator(course_name)\n",
    "result(course_id)\n"
   ]
  },
  {
   "cell_type": "markdown",
   "metadata": {
    "colab_type": "text",
    "id": "B0Rqbyi4HEl2"
   },
   "source": [
    "### Task 6\n",
    "\n",
    "Suppose you have a list named my_list. Your task is to sort the list and print the count of numbers that have changed their position. <br/>\n",
    "my_list = [4,2,3,1,6,5] <br/>\n",
    "Sorted list would be [1,2,3,4,5,6] where 4 numbers have changed their position.\n",
    "\n",
    "\n",
    "**Sample Output**<br/>\n",
    "4"
   ]
  },
  {
   "cell_type": "code",
   "execution_count": 3,
   "metadata": {
    "colab": {},
    "colab_type": "code",
    "id": "AMc8jAa7HEl2"
   },
   "outputs": [
    {
     "name": "stdout",
     "output_type": "stream",
     "text": [
      "4\n"
     ]
    }
   ],
   "source": [
    "#Done\n",
    "def danial_sort(my_list):\n",
    "    for i in range(len(my_list) - 1):\n",
    "        for j in range(len(my_list)-1-i):\n",
    "            if my_list[j] > my_list[j+1]:\n",
    "                max = my_list[j]\n",
    "                my_list[j] = my_list[j+1]\n",
    "                my_list[j+1] = max\n",
    "    return my_list\n",
    "def change_checker(unsorted_list , sorted_list):\n",
    "    count = 0\n",
    "    for i in range(len(unsorted_list)):\n",
    "        if unsorted_list[i] != sorted_list[i]:\n",
    "            count+=1\n",
    "    print(count)\n",
    "\n",
    "my_list = [4,2,3,1,6,5]\n",
    "\n",
    "copy_of_myList = my_list.copy()\n",
    "change_checker(my_list , danial_sort(copy_of_myList))"
   ]
  },
  {
   "cell_type": "markdown",
   "metadata": {
    "colab_type": "text",
    "id": "iIH5n0sJHEl5"
   },
   "source": [
    "### Task 7\n",
    "\n",
    "Write a python program that takes two lists from the user, merges the two lists, sorts the list, and find the median of the elements of the two lists.\n",
    "\n",
    "**Sample Input 1**<br/>\n",
    "list_one= [1,2,1,4] <br/>\n",
    "list_two= [5,4,1]\n",
    "\n",
    "\n",
    "**Sample Output 1**<br/>\n",
    "Sorted list= [1, 1, 1, 2, 4, 4, 5] <br/>\n",
    "Median = 2\n",
    "\n",
    "**Sample Input 2**<br/>\n",
    "list_one= [1,7,9,10] <br/>\n",
    "list_two= [2,7,6,5]\n",
    "\n",
    "\n",
    "**Sample Output 2**<br/>\n",
    "Sorted list=[1, 2, 5, 6, 7, 7, 9, 10] <br/>\n",
    "Median=6.5\n",
    "\n"
   ]
  },
  {
   "cell_type": "code",
   "execution_count": 4,
   "metadata": {
    "colab": {},
    "colab_type": "code",
    "id": "KsFxC7XbHEl6"
   },
   "outputs": [
    {
     "name": "stdout",
     "output_type": "stream",
     "text": [
      "Enter list_one items seperated by space: 1 2 1 4\n",
      "Enter list_two items seperated by space: 5 4 1\n",
      "Sorted list = [1, 1, 1, 2, 4, 4, 5]\n",
      "Median = 2\n"
     ]
    }
   ],
   "source": [
    "#Done\n",
    "def danial_sort(my_list):\n",
    "    for i in range(len(my_list) - 1):\n",
    "        for j in range(len(my_list)-1-i):\n",
    "            if my_list[j] > my_list[j+1]:\n",
    "                max = my_list[j]\n",
    "                my_list[j] = my_list[j+1]\n",
    "                my_list[j+1] = max\n",
    "    #return my_list , i could return , but when i change it inside function , it also changes the list\n",
    "    \n",
    "def median(my_list):\n",
    "    l = len(my_list)\n",
    "    \n",
    "    if l%2 ==0:\n",
    "        x = (my_list[int((l/2))-1] + my_list[int((l/2))])/2\n",
    "    elif l%2 !=0:\n",
    "        x = my_list[(l//2)]\n",
    "    \n",
    "    if x - int(x) == 0:\n",
    "        return int(x)\n",
    "    else:\n",
    "        return x\n",
    "def convert_append(my_list):\n",
    "    return_list = []\n",
    "    for i in my_list:\n",
    "        return_list.append(int(i))\n",
    "    return return_list\n",
    "\n",
    "list_one= input(\"Enter list_one items seperated by space: \").split()\n",
    "list_two= input(\"Enter list_two items seperated by space: \").split()\n",
    "\n",
    "my_list = convert_append(list_one) + convert_append(list_two)\n",
    "danial_sort(my_list)\n",
    "median = median(my_list)\n",
    "print('Sorted list =',my_list)\n",
    "print('Median =',median)"
   ]
  },
  {
   "cell_type": "markdown",
   "metadata": {
    "colab_type": "text",
    "id": "-XKiwBR1HEl8"
   },
   "source": [
    "### Task 8\n",
    "\n",
    "\n",
    "Write a python program that takes a list from user containing both positive and negative numbers. The program then finds two pairs of values whose summation is closest to zero.\n",
    "\n",
    "**Sample Input 1**<br/>\n",
    "list_one=[-10,15,2,4,-4,7,-8] \n",
    "\n",
    "\n",
    "**Sample Output 1**<br/>\n",
    "Two pairs which have the smallest sum = 4 and -4\n",
    "\n",
    "\n",
    "**Sample Input 2**<br/>\n",
    "list_one=[1,-8,4,-7,-20,26,70,-85]\n",
    "\n",
    "\n",
    "**Sample Output 2**<br/>\n",
    "Two pairs which have the smallest sum = 4 and -7"
   ]
  },
  {
   "cell_type": "code",
   "execution_count": 5,
   "metadata": {
    "colab": {},
    "colab_type": "code",
    "id": "5ORSGa5GHEl9"
   },
   "outputs": [
    {
     "name": "stdout",
     "output_type": "stream",
     "text": [
      "Enter list items seperated by space: 1 -8 4 -7 -20 26 70 -85\n",
      "Two pairs which have the smallest sum =  4 and -7\n"
     ]
    }
   ],
   "source": [
    "#Done\n",
    "def convert_append(my_list): #using this just for changing str to int\n",
    "    return_list = []\n",
    "    for i in my_list:\n",
    "        return_list.append(int(i))\n",
    "    return return_list\n",
    "\n",
    "my_list= input(\"Enter list items seperated by space: \").split()\n",
    "list_one = convert_append(my_list)\n",
    "\n",
    "#list_one=[1,-8,4,-7,-20,26,70,-85] #you can comment out above lines and uncomment it to check my main program easily\n",
    "\n",
    "sum_list= []\n",
    "\n",
    "for i in range(len(list_one)): #genarating every possible sequence\n",
    "    for j in range(i+1,len(list_one)):\n",
    "        sum_list.append([ list_one[i], list_one[j], list_one[i]+list_one[j]]) \n",
    "#print(sum_list) #for debugging\n",
    "\n",
    "for i in range(len(sum_list) - 1):\n",
    "        for j in range(len(sum_list)-1-i):\n",
    "            if abs(sum_list[j][2]) > abs(sum_list[j+1][2]): #comparing with absolute value and sorting\n",
    "                max = sum_list[j]\n",
    "                sum_list[j] = sum_list[j+1]\n",
    "                sum_list[j+1] = max\n",
    "#print(sum_list) #for debugging\n",
    "\n",
    "print('Two pairs which have the smallest sum = ',sum_list[0][0],'and',sum_list[0][1])\n",
    "\n",
    "# 1 -8 4 -7 -20 26 70 -85   #use this to check easily\n",
    "# -10 15 2 4 -4 7 -8        #use this to check easily"
   ]
  },
  {
   "cell_type": "code",
   "execution_count": null,
   "metadata": {},
   "outputs": [],
   "source": [
    "Arrigato <3 <3"
   ]
  }
 ],
 "metadata": {
  "colab": {
   "collapsed_sections": [],
   "name": "CSE110 Assignment07.ipynb",
   "provenance": []
  },
  "kernelspec": {
   "display_name": "Python 3",
   "language": "python",
   "name": "python3"
  },
  "language_info": {
   "codemirror_mode": {
    "name": "ipython",
    "version": 3
   },
   "file_extension": ".py",
   "mimetype": "text/x-python",
   "name": "python",
   "nbconvert_exporter": "python",
   "pygments_lexer": "ipython3",
   "version": "3.7.6"
  }
 },
 "nbformat": 4,
 "nbformat_minor": 1
}

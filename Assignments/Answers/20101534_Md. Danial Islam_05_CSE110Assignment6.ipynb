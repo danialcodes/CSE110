{
 "cells": [
  {
   "cell_type": "markdown",
   "metadata": {
    "colab_type": "text",
    "id": "ZXvFDb3VLf5p"
   },
   "source": [
    "# CSE110 Assignment 6\n",
    "This assignment is to guide you to solve everything you have learned so far by implementing Exceptions in Python. \n",
    "\n",
    "**<font color='red'>[MUST MAINTAIN VARIABLE NAMING CONVENTIONS FOR ALL THE TASKS]</font>**\n",
    "\n",
    "## Write the Python code of the following problems:\n"
   ]
  },
  {
   "cell_type": "markdown",
   "metadata": {
    "colab_type": "text",
    "id": "tZow-v3MLoLE"
   },
   "source": [
    "### Task 1\n",
    "Given a list named my_list.\n",
    "my_list=[10,20,30,40,60,100,2,5]\n",
    "\n",
    "Write a python program that takes the position as an input from the user and prints the element of that position from the list. \n",
    "\n",
    "If the user’s input position is not in the range, return an exception stating “Index out of range”.\n",
    "\n",
    "Make sure your program always prints “Program ended” at the end, no matter what happens.\n",
    "\n",
    "Hint: Use finally block\n",
    "\n",
    "**Example 1:** \\\n",
    "**Input:**\\\n",
    "1\\\n",
    "**Output:**\\\n",
    "20\\\n",
    "Program ended\n",
    "\n",
    "=============================\n",
    "\n",
    "**Example 2:** \\\n",
    "**Input:**\\\n",
    "10\\\n",
    "**Output:**\\\n",
    "Index out of range.\\\n",
    "Program ended\n"
   ]
  },
  {
   "cell_type": "code",
   "execution_count": 1,
   "metadata": {
    "colab": {},
    "colab_type": "code",
    "id": "c9yKuS5kLdDO"
   },
   "outputs": [
    {
     "name": "stdout",
     "output_type": "stream",
     "text": [
      "5\n",
      "100\n",
      "Program ended\n"
     ]
    }
   ],
   "source": [
    "#Done\n",
    "my_list=[10,20,30,40,60,100,2,5]\n",
    "try:\n",
    "    index = int(input())\n",
    "    print(my_list[index])\n",
    "except ValueError:\n",
    "    print(\"Please Enter an Intiger\")\n",
    "except IndexError:\n",
    "    print(\"Index out of range\")\n",
    "finally:\n",
    "    print(\"Program ended\")"
   ]
  },
  {
   "cell_type": "markdown",
   "metadata": {
    "colab_type": "text",
    "id": "gD4MMyO_Mtw4"
   },
   "source": [
    "### Task 2\n",
    "\n",
    "Suppose you have a dictionary named my_dictionary containing the name of some groceries and their prices.\\\n",
    "my_dictionary={“Potato”:12, “Onion”:16, “Ginger”:15, “Garlic”:12, “Tomato”:15}\n",
    "\n",
    "Now write a python program that takes the grocerie names as input from the users and shows the total price of the groceries.\n",
    "\n",
    "Some exceptions to handle:\n",
    "* Handle the exception when the given key is not present in the dictionary.\n",
    "* Handle the exception when the summation variable is not initialized.\n",
    "\n",
    "**Example 1:** \\\n",
    "**Input:**\\\n",
    "Potato,Onion,Ginger\\\n",
    "**Output:**\\\n",
    "43\n",
    "\n",
    "=============================\n",
    "\n",
    "**Example 2:** \\\n",
    "**Input:**\\\n",
    "Potato,Onion,Ginger,Beef\\\n",
    "**Output:**\\\n",
    "Some groceries are not available in the dictionary.\n"
   ]
  },
  {
   "cell_type": "code",
   "execution_count": 17,
   "metadata": {
    "colab": {},
    "colab_type": "code",
    "id": "15umlUXTNe5N"
   },
   "outputs": [
    {
     "name": "stdout",
     "output_type": "stream",
     "text": [
      "Potato,Onion,Ginger\n",
      "43\n"
     ]
    }
   ],
   "source": [
    "#Done   \n",
    "my_dictionary={'potato':12, 'onion':16, 'ginger':15, 'garlic':12, 'tomato':15}\n",
    "my_list = input().split(\",\") #wanted to more like example input, I also could use loop to get as many as input i want\n",
    "total_price = 0\n",
    "try:\n",
    "    for item in my_list:\n",
    "        item = item.lower()\n",
    "        try:\n",
    "            total_price +=my_dictionary[item]\n",
    "        except NameError:\n",
    "            total_price = 0\n",
    "            total_price +=my_dictionary[item]\n",
    "    print(total_price)\n",
    "except KeyError:\n",
    "    print('Some groceries are not available in the dictionary.')"
   ]
  },
  {
   "cell_type": "markdown",
   "metadata": {
    "colab_type": "text",
    "id": "l5SgF6kTN7vY"
   },
   "source": [
    "### Task 3\n",
    "Write a python program that takes two lists as input from the user, multiplies the index wise elements of the two lists and adds it to a new variable. While doing the program you should handle the following exceptions:\n",
    "* Return an exception when the new variable is not declared stating “The new variable is not declared”.\n",
    "* Return an exception if an element in a list is not a number stating “The list has some non number values”.\n",
    "* Return an exception if there is an index out of bound stating “Index out of bound”.\n",
    "\n",
    "**Example 1:** \\\n",
    "**Input:**\\\n",
    "list_one = [1, a, 2, 4]\\\n",
    "List_two =[5, 6, 7, 8]\\\n",
    "**Output:**\\\n",
    "The list has some non number values\n",
    "\n",
    "=================\n",
    "\n",
    "**Example 2:** \\\n",
    "**Input:**\\\n",
    "list_one=[1, 2, 3, 4, 5]\\\n",
    "list_two=[1, 2, 3, 4]\\\n",
    "**Output:**\\\n",
    "Index out of bound\n",
    "\n",
    "=================\n",
    "\n",
    "**Example 3:** \\\n",
    "**Input:**\\\n",
    "list_one=[1,2,3,4]\\\n",
    "list_two=[5,6,7,8]\\\n",
    "**Output:**\\\n",
    "70\n",
    "\n",
    "\n"
   ]
  },
  {
   "cell_type": "code",
   "execution_count": 14,
   "metadata": {
    "colab": {},
    "colab_type": "code",
    "id": "oFpEZFRhOlvV"
   },
   "outputs": [
    {
     "name": "stdout",
     "output_type": "stream",
     "text": [
      "Please enter list one Items without second bracket and spaces: 1,2,3,4,5\n",
      "Please enter list two Items without second bracket and spaces: 4,5,6,7\n",
      "Index out of bound\n"
     ]
    }
   ],
   "source": [
    "#Done\n",
    "new_list = []\n",
    "try:\n",
    "    list_one = input('Please enter list one Items without second bracket and spaces: ').split(',')\n",
    "    list_two = input('Please enter list two Items without second bracket and spaces: ').split(',')\n",
    "    if len(list_one) != len(list_two):\n",
    "        raise IndexError()\n",
    "    for i in range(len(list_one)):\n",
    "        new_list.append(int(list_one[i])*int(list_two[i]))\n",
    "    total = 0\n",
    "    for item in new_list:\n",
    "        total += item\n",
    "except IndexError:\n",
    "    print('Index out of bound')\n",
    "except NameError:\n",
    "    print('The new variable is not declared')\n",
    "except TypeError:\n",
    "    print('The list has some non number values')\n",
    "except ValueError:\n",
    "    print('The list has some non number values')\n",
    "else:  \n",
    "    print(total)"
   ]
  },
  {
   "cell_type": "markdown",
   "metadata": {
    "colab_type": "text",
    "id": "iBqIUN-WOnvW"
   },
   "source": [
    "### Task 4\n",
    "Write a python program that will take a string input from the user. Your task is to count the number of vowels and consonants in the string.\n",
    "\n",
    "Using try, if the number of vowels is greater than or equal to the number of consonants than raise a runtime error. Print 'Number of vowels greater/equal to consonants. Please, paraphrase'.\\\n",
    "Otherwise, print 'The sentence will work'. \n",
    "\n",
    "**Note:** a,e,i,o,u are called vowels and all the other 21 english alphabets are consonants.\n",
    "\n",
    "**Example 1:** \\\n",
    "**Input:**\\\n",
    "'his age is 10'\\\n",
    "**Output:**\\\n",
    "Number of vowels is greater/equal. Paraphrase the sentence\n",
    "\n",
    "=================\n",
    "\n",
    "**Example 2:** \\\n",
    "**Input:**\\\n",
    "'he is 10 years old'\\\n",
    "**Output:**\\\n",
    "The sentence will work"
   ]
  },
  {
   "cell_type": "code",
   "execution_count": 17,
   "metadata": {
    "colab": {},
    "colab_type": "code",
    "id": "-4kg2W2EPwVo"
   },
   "outputs": [
    {
     "name": "stdout",
     "output_type": "stream",
     "text": [
      "his age is 10\n",
      "Number of vowels is greater/equal. Paraphrase the sentence\n"
     ]
    }
   ],
   "source": [
    "#Done\n",
    "sentence = input()\n",
    "vowels = 0\n",
    "consonants = 0\n",
    "for char in sentence:\n",
    "    if char.lower() in 'aeiou':\n",
    "        vowels +=1\n",
    "    elif char.lower() in 'bcdfghjklmnpqrstvwxyz':\n",
    "        consonants +=1\n",
    "\n",
    "try:\n",
    "    if vowels >= consonants:\n",
    "        raise RuntimeError()\n",
    "except RuntimeError:\n",
    "    print('Number of vowels is greater/equal. Paraphrase the sentence')\n",
    "else:\n",
    "    print(\"The sentence will work\")"
   ]
  },
  {
   "cell_type": "markdown",
   "metadata": {
    "colab_type": "text",
    "id": "pl4CDeUkPxeM"
   },
   "source": [
    "### Task 5\n",
    "Write a python program that finds the corresponding energy values from a list of frequency values which are taken as input from the user, using the formula, $E=h*f$, where h is a constant of value: 1050\n",
    "\n",
    "Exceptions to handle:\n",
    "* Make sure all elements in the lists are numbers\n",
    "\n",
    "\n",
    "**Example 1:** \\\n",
    "**Input:**\\\n",
    "[$2$,$3$]\\\n",
    "**Output:**\\\n",
    "[$2100$, $3150$]\n",
    "\n",
    "=================\n",
    "\n",
    "**Example 2:** \\\n",
    "**Input:**\\\n",
    "[2,boss]\\\n",
    "**Output:**\\\n",
    "Wrong input type"
   ]
  },
  {
   "cell_type": "code",
   "execution_count": 8,
   "metadata": {
    "colab": {},
    "colab_type": "code",
    "id": "vdYQH9qnQvVo"
   },
   "outputs": [
    {
     "name": "stdout",
     "output_type": "stream",
     "text": [
      "After entering all the frequency please press enter:\n",
      "2\n",
      "boss\n",
      "Wrong input type\n"
     ]
    }
   ],
   "source": [
    "#Done\n",
    "list_of_frequency = []\n",
    "print('After entering all the frequency please press enter:')\n",
    "check = 0\n",
    "while True:\n",
    "    try:\n",
    "        value = input()\n",
    "        if len(value) < 1:\n",
    "            break\n",
    "        list_of_frequency.append(int(value))\n",
    "    except ValueError:\n",
    "        print('Wrong input type')\n",
    "        check = 1\n",
    "        break\n",
    "new_list = []\n",
    "for item in list_of_frequency:\n",
    "    new_list.append(item*1050)\n",
    "if check!=1: print(new_list)"
   ]
  },
  {
   "cell_type": "markdown",
   "metadata": {
    "colab_type": "text",
    "id": "RdshPzpJRcsD"
   },
   "source": [
    "### Task 6\n",
    "Write a python function that will remove a given character from a sentence based on the starting and ending index of the sentence. In the place of the removed characters, add the count of the number of characters removed so far. For this program, you need to take 4 user inputs.\n",
    "* Sentence\n",
    "* Character to be removed\n",
    "* Starting index (inclusive)\n",
    "* Ending index (inclusive)\n",
    "\n",
    "Few exceptions to catch: \n",
    "* Name Error if a variable is not found. Print ‘Name Error: Variable not defined’\n",
    "* Value Error if the starting index and ending index is not an integer. Print ‘Value Error: Wrong input, please enter an integer value.’\n",
    "* Type Error when adding count in the new sentence. Print ‘Type Error: Cannot add integer value with string.’\n",
    "* Index Error if the starting and ending index is out of range. Print ‘Index Error: Index is outside the range of sentence length.’\n",
    "* For other exceptions, catch Exception. Print ‘Some other error occurred.’\n",
    "\n",
    "If no exception occurred, print the new string using else block. At the end using finally, print ‘The program execution is complete’.\n",
    "\n",
    "**Example 1:** \\\n",
    "**Input:**\\\n",
    "'my python programming book'\\\n",
    "'m'\\\n",
    "2\\\n",
    "20\\\n",
    "**Output:**\\\n",
    "my python progra12ing book\\\n",
    "The program execution is complete\n",
    "\n",
    "=================\n",
    "\n",
    "**Example 2:** \\\n",
    "**Input:**\\\n",
    "'my python programming book'\\\n",
    "'m'\\\n",
    "2.5\\\n",
    "20\\\n",
    "**Output:**\\\n",
    "Value Error: Wrong input, please enter an integer value.\\\n",
    "The program execution is complete\n",
    "\n",
    "=================\n",
    "\n",
    "**Example 3:** \\\n",
    "**Input:**\\\n",
    "'my python programming book'\\\n",
    "'m'\\\n",
    "2\\\n",
    "100\\\n",
    "**Output:**\\\n",
    "Index Error: Index is outside the range of sentence length.\\\n",
    "The program execution is complete\n"
   ]
  },
  {
   "cell_type": "code",
   "execution_count": 15,
   "metadata": {
    "colab": {},
    "colab_type": "code",
    "id": "bcU6dV5BSl7d"
   },
   "outputs": [
    {
     "name": "stdout",
     "output_type": "stream",
     "text": [
      "Please enter Sentence,Character to be removed,Starting index,Ending index sequently\n",
      "my python programming book\n",
      "m\n",
      "2\n",
      "20\n",
      "my python progra12ing book\n",
      "The program execution is complete\n"
     ]
    }
   ],
   "source": [
    "#Done\n",
    "print('Please enter Sentence,Character to be removed,Starting index,Ending index sequently')\n",
    "new_string = ''\n",
    "count = 0\n",
    "try:\n",
    "    sentence = input()\n",
    "    char_to_be_removed = input()\n",
    "    starting_index = input()\n",
    "    ending_index = input()\n",
    "    if (int(starting_index) < - len(sentence)) or (int(ending_index) >= len(sentence)):\n",
    "        raise IndexError()\n",
    "    for i in range(len(sentence)):\n",
    "        if (sentence[i] == char_to_be_removed) and (i >= int(starting_index)) and (i <= int(ending_index)):\n",
    "            count+=1\n",
    "            new_string +=  str(count) # remove str() to see TypeError exception\n",
    "        else:\n",
    "            new_string += sentence[i]\n",
    "\n",
    "except NameError:\n",
    "    print('Name Error: Variable not defined')\n",
    "except ValueError:\n",
    "    print('Value Error: Wrong input, please enter an integer value')\n",
    "except TypeError:\n",
    "    print('Type Error: Cannot add integer value with string.')\n",
    "except IndexError:\n",
    "    print('Index Error: Index is outside the range of sentence length.')\n",
    "except exception:\n",
    "    print('Some other error occurred.')\n",
    "else:\n",
    "    print(new_string)\n",
    "finally:\n",
    "    print('The program execution is complete')"
   ]
  },
  {
   "cell_type": "markdown",
   "metadata": {
    "colab_type": "text",
    "id": "SjU5ufx8Snv3"
   },
   "source": [
    "### Task 7\n",
    "Read a **file** from the user which contains the  name and salary of employees. Convert that to a dictionary where the key is the name of each employee and value is the salary of that employee. Then find the total cost for the company that it needs to pay through employees’ salary. Print the dictionary and sum if no exception occurs.\n",
    "\n",
    "Exception to handle:\n",
    "* check whether file is actually there\n",
    "* Check whether the salary in each line is a number or not.\n",
    "* Raise error if there are extra numbers or names\n",
    "\n",
    "**Example 1:** \\\n",
    "**Input:**\\\n",
    "Saadat 100\\\n",
    "Farzad 200\\\n",
    "Atef 300\\\n",
    "**Output:**\\\n",
    "dict={Saadat : 100, Farzad : 200, Atef : 300}\\\n",
    "Sum = 600\n",
    "\n",
    "=================\n",
    "\n",
    "**Example 2:** \\\n",
    "**Input:**\\\n",
    "Saadat 100\\\n",
    "Farzad 200\\\n",
    "Atef 300\\\n",
    "John\\\n",
    "**Output:**\\\n",
    "Extra Statement\n"
   ]
  },
  {
   "cell_type": "code",
   "execution_count": 20,
   "metadata": {
    "colab": {},
    "colab_type": "code",
    "id": "SUxJ1iCXUAPg"
   },
   "outputs": [
    {
     "name": "stdout",
     "output_type": "stream",
     "text": [
      "Please enter your file name: a.txt\n",
      "dict= {'Saadat': 100, 'Farzad': 200, 'Atef': 300}\n",
      "Sum = 600\n"
     ]
    }
   ],
   "source": [
    "#Done\n",
    "file = input(\"Please enter your file name: \") #enter your file name here\n",
    "salary = {}\n",
    "total_salary = 0\n",
    "try:\n",
    "    fh = open(file,mode='r')\n",
    "    for line in fh:\n",
    "        line = line.split()\n",
    "        if len(line) != 2:\n",
    "            raise RuntimeError()\n",
    "        else:\n",
    "            salary[line[0]] = int(line[1])\n",
    "            total_salary += salary[line[0]]\n",
    "    fh.close()\n",
    "except FileNotFoundError:\n",
    "    print(\"Sorry there is no such File. Input again\")\n",
    "except RuntimeError:\n",
    "    print('Extra Statement')\n",
    "except ValueError:\n",
    "    print('Salary is not an intiger')\n",
    "else:\n",
    "    print('dict =',salary)\n",
    "    print('Sum =',total_salary)"
   ]
  },
  {
   "cell_type": "markdown",
   "metadata": {
    "colab_type": "text",
    "id": "GC6Y943uUNHY"
   },
   "source": [
    "### Task 8\n",
    "Imagine Salman Khan is going to the sets of a new movie. He decides to cycle everyday on his way to the sets. For that he uses a distance calculator which finds the distance based on the present day's date, which is asked as an input from the user. You should first take the day and then the month as your inputs.\n",
    "The inputs should be stored in variables named `day` and `month` The distance calculator uses the following formulae to calculate a number which dictates the number of kilometers he must cycle on his way to work.\n",
    "\n",
    "Exceptions to handle:\\\n",
    "-Check for 0 division error exception\\\n",
    "-Type error exception when taking date as input\\\n",
    "-Value error exception, as day can not be greater than 31 and month can not be greater than 12\n",
    "\n",
    "\n",
    "\n",
    "\n",
    "\n",
    "\n",
    "\n",
    "\n",
    "\n",
    "\n",
    "\n",
    "\n",
    "\n",
    "\n",
    "Distance = |if day<10, `5+(day*2)/month`\\\n",
    "&nbsp;&nbsp;&nbsp;&nbsp;&nbsp;&nbsp;&nbsp;&nbsp;&nbsp;&nbsp;&nbsp;&nbsp;&nbsp;&nbsp;&nbsp;&nbsp;&nbsp;&nbsp;&nbsp; |else, `3+(day/month)`\n",
    "\n",
    "\n",
    "**Example 1:** \\\n",
    "**Input:**\\\n",
    "3\\\n",
    "5\\\n",
    "**Output:**\\\n",
    "6.2 kilometres\n",
    "\n",
    "=================\n",
    "\n",
    "**Example 2:** \\\n",
    "**Input:**\\\n",
    "2\\\n",
    "0\\\n",
    "**Output:**\\\n",
    "0 is not a valid month\n",
    "\n",
    "**Example 3:** \\\n",
    "**Input:**\\\n",
    "35\\\n",
    "12\\\n",
    "**Output:**\\\n",
    "35 is not a valid day of any month\n",
    "\n",
    "\n",
    "**Example 4:** \\\n",
    "**Input:**\\\n",
    "Hello\\\n",
    "12\\\n",
    "**Output:**\\\n",
    "Please do not enter any string as input\n",
    "\n",
    "\n",
    "**Example 5:** \\\n",
    "**Input:**\\\n",
    "15\\\n",
    "12\\\n",
    "**Output:**\\\n",
    "4.25 kilometres\n",
    "\n",
    "\n",
    "\n",
    "\n"
   ]
  },
  {
   "cell_type": "code",
   "execution_count": 26,
   "metadata": {
    "colab": {},
    "colab_type": "code",
    "id": "fg9mQUaEWH7a"
   },
   "outputs": [
    {
     "name": "stdout",
     "output_type": "stream",
     "text": [
      "15\n",
      "12\n",
      "4.25 kilometres\n"
     ]
    }
   ],
   "source": [
    "#Done\n",
    "try:\n",
    "    try:\n",
    "        day = int(input())\n",
    "        month = int(input())\n",
    "    except ValueError:\n",
    "        raise TypeError()\n",
    "    if day < 1 or day > 31:\n",
    "        raise ValueError()\n",
    "    if month > 12:\n",
    "        raise RuntimeError()\n",
    "    if day < 10:\n",
    "        distance = 5+(day*2)/month\n",
    "    else:\n",
    "        distance = 3+(day/month)\n",
    "\n",
    "except TypeError:\n",
    "    print('Please do not enter any string as input')\n",
    "except ValueError:\n",
    "    print(day,'is not a valid day of any month')\n",
    "except RuntimeError:\n",
    "    print(month,\"is not a valid month\")\n",
    "except ZeroDivisionError:\n",
    "    print('0 is not a valid month')\n",
    "else:\n",
    "    print(distance,\"kilometres\")"
   ]
  },
  {
   "cell_type": "markdown",
   "metadata": {
    "colab_type": "text",
    "id": "2Xzq6xJNWvbf"
   },
   "source": [
    "### Task 9\n",
    "Write a python program to make a calculator. The user must input a string consisting of a number, operator and another number separated by white spaces.\n",
    "* If the user’s input does not contain 3 elements, raise an exception error stating “Input does not contain 3 elements/Wrong operator”.\n",
    "* If the user inputs any other values except numbers in first and third position of the input, raise value error exception stating “Input does not contain numbers.” \n",
    "* If the user does not input ‘+’ or ‘-’ or ’/’ or ‘*’ or ‘%’ in second position of the input, again raise an exception stating “Input does not contain 3 elements/Wrong operator”.\n",
    "* In case of division, also handle divide by zero exception.\n",
    "\n",
    "If all the inputs are correct, calculate the result and print the value.\n",
    "\n",
    "**Example 1:** \\\n",
    "**Input:**\\\n",
    "1 + 1 + 1\\\n",
    "**Output:**\\\n",
    "Input does not contain 3 elements/Wrong operator\n",
    "\n",
    "=================\n",
    "\n",
    "**Example 2:** \\\n",
    "**Input:**\\\n",
    "A * B\\\n",
    "**Output:**\\\n",
    "Input does not contain numbers.\n",
    "\n",
    "=================\n",
    "\n",
    "**Example 3:** \\\n",
    "**Input:**\\\n",
    "1 $ 3\\\n",
    "**Output:**\\\n",
    "Input does not contain 3 elements/Wrong operator\n",
    "\n",
    "=================\n",
    "\n",
    "**Example 4:** \\\n",
    "**Input:**\\\n",
    "1 + 1\\\n",
    "**Output:**\\\n",
    "The answer is : 2\n"
   ]
  },
  {
   "cell_type": "code",
   "execution_count": 42,
   "metadata": {
    "colab": {},
    "colab_type": "code",
    "id": "vX2d7DiVXbhc"
   },
   "outputs": [
    {
     "name": "stdout",
     "output_type": "stream",
     "text": [
      "0 % 5\n",
      "The answer is: 0\n"
     ]
    }
   ],
   "source": [
    "#Done\n",
    "def calculation(first,oparator,last):\n",
    "    if oparator == '+':\n",
    "        math = first + last\n",
    "    elif oparator == '-':\n",
    "        math = first - last\n",
    "    elif oparator == '*':\n",
    "        math = first * last\n",
    "    elif oparator == '/':\n",
    "            math = first / last\n",
    "    elif oparator == '%':\n",
    "        math = first % last\n",
    "    return math\n",
    "\n",
    "oparators = ['+','-','*','/','%']\n",
    "try:\n",
    "    string = input().split()\n",
    "    if (len(string) != 3) or (string[1] not in oparators):\n",
    "        raise RuntimeError()\n",
    "    first = int(string[0])\n",
    "    last = int(string[2])\n",
    "    if last == 0 and (string[1] == '/' or string[1] == '%'):\n",
    "        raise ZeroDivisionError()\n",
    "except RuntimeError:\n",
    "    print('Input does not contain 3 elements/Wrong operator')\n",
    "except ValueError:\n",
    "    print('Input does not contain numbers.')\n",
    "except ZeroDivisionError:\n",
    "    print(\"Last number cannot be Zero\")\n",
    "else:\n",
    "    print('The answer is:',calculation(first,string[1],last))"
   ]
  },
  {
   "cell_type": "code",
   "execution_count": null,
   "metadata": {},
   "outputs": [],
   "source": []
  }
 ],
 "metadata": {
  "colab": {
   "collapsed_sections": [],
   "name": "CSE110 Assignment06.ipynb",
   "provenance": []
  },
  "kernelspec": {
   "display_name": "Python 3",
   "language": "python",
   "name": "python3"
  },
  "language_info": {
   "codemirror_mode": {
    "name": "ipython",
    "version": 3
   },
   "file_extension": ".py",
   "mimetype": "text/x-python",
   "name": "python",
   "nbconvert_exporter": "python",
   "pygments_lexer": "ipython3",
   "version": "3.7.6"
  }
 },
 "nbformat": 4,
 "nbformat_minor": 1
}

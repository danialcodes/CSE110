{
 "cells": [
  {
   "cell_type": "markdown",
   "metadata": {},
   "source": [
    "### Task 1\n",
    "\n",
    "Write a python program that prints a square of size N using + where N will be given as input.\n",
    "\n",
    "**Sample Input**\n",
    "5\n",
    "\n",
    "**Sample Output**<br>\n",
    "+++++<br>\n",
    "+++++<br>\n",
    "+++++<br>\n",
    "+++++<br>\n",
    "+++++<br>\n"
   ]
  },
  {
   "cell_type": "code",
   "execution_count": 5,
   "metadata": {},
   "outputs": [
    {
     "name": "stdout",
     "output_type": "stream",
     "text": [
      "10\n",
      "++++++++++\n",
      "++++++++++\n",
      "++++++++++\n",
      "++++++++++\n",
      "++++++++++\n",
      "++++++++++\n",
      "++++++++++\n",
      "++++++++++\n",
      "++++++++++\n",
      "++++++++++\n"
     ]
    }
   ],
   "source": [
    "num = int(input())\n",
    "for row in range(num):\n",
    "    for col in range(num):\n",
    "        print(\"+\",end=\"\")\n",
    "    print()"
   ]
  },
  {
   "cell_type": "markdown",
   "metadata": {},
   "source": [
    "### Task 2\n",
    "\n",
    "Write a python program that prints a rectangle of size M (height) and N(length) using + where M,N will be given as input.\n",
    "\n",
    "**Sample Input**\n",
    "3,8\n",
    "\n",
    "**Sample Output**<br>\n",
    "++++++++<br>\n",
    "++++++++<br>\n",
    "++++++++<br>\n"
   ]
  },
  {
   "cell_type": "code",
   "execution_count": 9,
   "metadata": {},
   "outputs": [
    {
     "name": "stdout",
     "output_type": "stream",
     "text": [
      "3\n",
      "4\n",
      "++++\n",
      "++++\n",
      "++++\n"
     ]
    }
   ],
   "source": [
    "height = int(input())\n",
    "length = int(input())\n",
    "for row in range(height):\n",
    "    for col in range(length):\n",
    "        print(\"+\",end=\"\")\n",
    "    print()"
   ]
  },
  {
   "cell_type": "markdown",
   "metadata": {},
   "source": [
    "### Task 3\n",
    "\n",
    "Write a python program that prints a right angled triangle of height N using + where N will be given as input.\n",
    "\n",
    "**Sample Input**\n",
    "4\n",
    "\n",
    "**Sample Output**<br>\n",
    "+<br>\n",
    "++<br>\n",
    "+++<br>\n",
    "++++<br>\n"
   ]
  },
  {
   "cell_type": "code",
   "execution_count": 14,
   "metadata": {},
   "outputs": [
    {
     "name": "stdout",
     "output_type": "stream",
     "text": [
      "4\n",
      "+\n",
      "++\n",
      "+++\n",
      "++++\n"
     ]
    }
   ],
   "source": [
    "num = int(input())\n",
    "count = 1\n",
    "for row in range(num):\n",
    "    for col in range(count):\n",
    "        print(\"+\",end=\"\")\n",
    "    print()\n",
    "    count +=1"
   ]
  },
  {
   "cell_type": "markdown",
   "metadata": {},
   "source": [
    "### Task 4\n",
    "\n",
    "Write a python program that prints a square of size N using incrementing numbers where N will be given as input.\n",
    "\n",
    "**Sample Input**\n",
    "5\n",
    "\n",
    "**Sample Output**<br>\n",
    "12345<br>\n",
    "12345<br>\n",
    "12345<br>\n",
    "12345<br>\n",
    "12345<br>\n",
    "\n"
   ]
  },
  {
   "cell_type": "code",
   "execution_count": 17,
   "metadata": {},
   "outputs": [
    {
     "name": "stdout",
     "output_type": "stream",
     "text": [
      "7\n",
      "1234567\n",
      "1234567\n",
      "1234567\n",
      "1234567\n",
      "1234567\n",
      "1234567\n",
      "1234567\n"
     ]
    }
   ],
   "source": [
    "num = int(input())\n",
    "for row in range(num):\n",
    "    for col in range(num):\n",
    "        print(col+1,end=\"\")\n",
    "    print()"
   ]
  },
  {
   "cell_type": "markdown",
   "metadata": {},
   "source": [
    "### Task 5\n",
    "\n",
    "Write a python program that prints a rectangle of size M (height) and N(length) using incrementing numbers where M,N will be given as input.\n",
    "\n",
    "**Sample Input**\n",
    "4,6\n",
    "\n",
    "**Sample Output**<br>\n",
    "123456<br>\n",
    "123456<br>\n",
    "123456<br>\n",
    "123456<br>\n"
   ]
  },
  {
   "cell_type": "code",
   "execution_count": 21,
   "metadata": {},
   "outputs": [
    {
     "name": "stdout",
     "output_type": "stream",
     "text": [
      "4\n",
      "6\n",
      "123456\n",
      "123456\n",
      "123456\n",
      "123456\n"
     ]
    }
   ],
   "source": [
    "height = int(input())\n",
    "length = int(input())\n",
    "for row in range(height):\n",
    "    for col in range(length):\n",
    "        print(col+1,end=\"\")\n",
    "    print()"
   ]
  },
  {
   "cell_type": "markdown",
   "metadata": {},
   "source": [
    "### Task 6\n",
    "\n",
    "Write a python program that prints a right angled triangle of height N using incrementing numbers where N will be given as input.\n",
    "\n",
    "**Sample Input**\n",
    "4\n",
    "\n",
    "**Sample Output**<br>\n",
    "1<br>\n",
    "12<br>\n",
    "123<br>\n",
    "1234<br>\n"
   ]
  },
  {
   "cell_type": "code",
   "execution_count": 27,
   "metadata": {},
   "outputs": [
    {
     "name": "stdout",
     "output_type": "stream",
     "text": [
      "5\n",
      "1\n",
      "12\n",
      "123\n",
      "1234\n",
      "12345\n"
     ]
    }
   ],
   "source": [
    "num = int(input())\n",
    "count = 1\n",
    "for row in range(num):\n",
    "    for col in range(count):\n",
    "        print(col+1,end=\"\")\n",
    "    print()\n",
    "    count += 1"
   ]
  },
  {
   "cell_type": "markdown",
   "metadata": {},
   "source": [
    "### Task 7\n",
    "\n",
    "Write a python program that prints all the fibonacci number from 0 to N where N will be given. ***A Fibonacci number is a number which is the summation of its previous two fibonacci number. *** First two fibonacci number are 0 and 1. So the 3rd Fib will be 0+1=1, 4th Fib will be 1+1=2, 5th Fib will be 1+2=3 and so on.\n",
    "\n",
    "**Sample Input**<br>\n",
    "10\n",
    "\n",
    "**Sample Output**<br>\n",
    "0 1 1 2 3 5 8"
   ]
  },
  {
   "cell_type": "code",
   "execution_count": 59,
   "metadata": {},
   "outputs": [
    {
     "name": "stdout",
     "output_type": "stream",
     "text": [
      "15\n",
      "0 1 1 2 3 5 8 13 "
     ]
    }
   ],
   "source": [
    "num1 = 0\n",
    "num2 = 1\n",
    "N = int(input())\n",
    "for time in range(N):\n",
    "    if(num1 > N):\n",
    "        break\n",
    "    print(num1,end=\" \")\n",
    "    num1 += num2\n",
    "    \n",
    "    if(num2 > N):\n",
    "        break\n",
    "    print(num2,end=\" \")\n",
    "    num2 += num1"
   ]
  },
  {
   "cell_type": "markdown",
   "metadata": {},
   "source": [
    "### Task 8\n",
    "\n",
    "Write a python program that converts a Decimal Integer number to a Boolean Number. \n",
    "\n",
    "**A decimal can be converted to a binary number by keeping track of the remainders after each division of that number by 2. For example, to convert 10 to a binary number, we can follow the following approach**\n",
    "\n",
    "2/10 = 5 (Remainder 0) <br>2/5 = 2 (Remainder 1) \n",
    "<br>2/2 = 1 (Remainder 0) \n",
    "<br>2/1 = 0 (Remainder 1) \n",
    "\n",
    "Take the remainders from bottom to top, which is, 1010. Binary of 10 is 1010.\n",
    "\n",
    "**Sample Input** <br>\n",
    "10\n",
    "\n",
    "**Sample Output**<br>\n",
    "1010"
   ]
  },
  {
   "cell_type": "code",
   "execution_count": 64,
   "metadata": {},
   "outputs": [
    {
     "name": "stdout",
     "output_type": "stream",
     "text": [
      "50\n",
      "110010"
     ]
    }
   ],
   "source": [
    "num = int(input())\n",
    "binary = list()\n",
    "while True:\n",
    "    quotent = num//2\n",
    "    reminder = num % 2\n",
    "    num = quotent\n",
    "    binary.append(reminder)\n",
    "    if(quotent==0):\n",
    "        break\n",
    "binary.reverse()\n",
    "for item in binary:\n",
    "    print(item,end=\"\")"
   ]
  },
  {
   "cell_type": "markdown",
   "metadata": {},
   "source": [
    "### Task 9\n",
    "\n",
    "Write a python program that converts a Binary number to a Decimal Integer Number. \n",
    "\n",
    "**A binary number can be converted to its corresponding decimal number by multiplying each binary digit with a power of 2 where the power denotes the position of the binary digit**\n",
    "\n",
    "For example, to convert 1010, we can do this - $2^{3}$ x 1 + $2^{2}$ x 0 + $2^{1}$ x 1 + $2^{0}$ x 0 = 10\n",
    "\n",
    "\n",
    "**Sample Input** <br>\n",
    "1010\n",
    "\n",
    "**Sample Output** <br>\n",
    "10"
   ]
  },
  {
   "cell_type": "code",
   "execution_count": 12,
   "metadata": {},
   "outputs": [
    {
     "name": "stdout",
     "output_type": "stream",
     "text": [
      "110010\n",
      "50\n"
     ]
    }
   ],
   "source": [
    "import math\n",
    "num = input()\n",
    "reverseNumList = list()\n",
    "sum = 0\n",
    "\n",
    "for digit in range(-1,-(len(num)+1),-1):\n",
    "    reverseNumList.append(int(num[digit]))\n",
    "\n",
    "for x in range(len(reverseNumList)):\n",
    "    sum += reverseNumList[x] * math.pow(2,x)\n",
    "print(int(sum))"
   ]
  },
  {
   "cell_type": "markdown",
   "metadata": {},
   "source": [
    "### Task 10\n",
    "\n",
    "Write a python program that counts the total unique digits of a number. <br>\n",
    "*To solve this problem, the number can be converted to a string and then nested iterations can be done over the string*\n",
    "\n",
    "\n",
    "\n",
    "\n",
    "**Sample Input** <br>\n",
    "12233345\n",
    "\n",
    "**Sample Output** <br>\n",
    "5"
   ]
  },
  {
   "cell_type": "code",
   "execution_count": 2,
   "metadata": {},
   "outputs": [
    {
     "name": "stdout",
     "output_type": "stream",
     "text": [
      "12223344556677\n",
      "7\n"
     ]
    }
   ],
   "source": [
    "num = input()\n",
    "unique = list()\n",
    "\n",
    "for digit in range(len(num)):\n",
    "    if num[digit] not in unique:\n",
    "        unique.append(num[digit])\n",
    "\n",
    "print(len(unique))"
   ]
  },
  {
   "cell_type": "code",
   "execution_count": null,
   "metadata": {},
   "outputs": [],
   "source": []
  },
  {
   "cell_type": "code",
   "execution_count": null,
   "metadata": {},
   "outputs": [],
   "source": []
  }
 ],
 "metadata": {
  "kernelspec": {
   "display_name": "Python 3",
   "language": "python",
   "name": "python3"
  },
  "language_info": {
   "codemirror_mode": {
    "name": "ipython",
    "version": 3
   },
   "file_extension": ".py",
   "mimetype": "text/x-python",
   "name": "python",
   "nbconvert_exporter": "python",
   "pygments_lexer": "ipython3",
   "version": "3.7.6"
  }
 },
 "nbformat": 4,
 "nbformat_minor": 2
}
